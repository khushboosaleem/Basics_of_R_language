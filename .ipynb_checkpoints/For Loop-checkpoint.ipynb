{
 "cells": [
  {
   "cell_type": "markdown",
   "id": "d70bc1dc-cdfe-4f20-aa20-713fa0dad0db",
   "metadata": {},
   "source": [
    "## ***For Loops***"
   ]
  },
  {
   "cell_type": "markdown",
   "id": "e7dc3698-d3ab-40f6-8b89-0eee131a3868",
   "metadata": {},
   "source": [
    "A `for` loop is used for iterating over a sequence"
   ]
  },
  {
   "cell_type": "code",
   "execution_count": null,
   "id": "97165241-ed13-4cf2-b479-556cc73ed7e9",
   "metadata": {},
   "outputs": [],
   "source": []
  }
 ],
 "metadata": {
  "kernelspec": {
   "display_name": "R",
   "language": "R",
   "name": "ir"
  },
  "language_info": {
   "codemirror_mode": "r",
   "file_extension": ".r",
   "mimetype": "text/x-r-source",
   "name": "R",
   "pygments_lexer": "r",
   "version": "4.5.1"
  }
 },
 "nbformat": 4,
 "nbformat_minor": 5
}
