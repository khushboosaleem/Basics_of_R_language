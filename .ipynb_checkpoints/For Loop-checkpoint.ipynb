{
 "cells": [
  {
   "cell_type": "markdown",
   "id": "d70bc1dc-cdfe-4f20-aa20-713fa0dad0db",
   "metadata": {},
   "source": [
    "## ***For Loops***"
   ]
  },
  {
   "cell_type": "markdown",
   "id": "e7dc3698-d3ab-40f6-8b89-0eee131a3868",
   "metadata": {},
   "source": [
    "A `for` loop is used for iterating over a sequence"
   ]
  },
  {
   "cell_type": "code",
   "execution_count": 1,
   "id": "97165241-ed13-4cf2-b479-556cc73ed7e9",
   "metadata": {},
   "outputs": [
    {
     "name": "stdout",
     "output_type": "stream",
     "text": [
      "[1] 1\n",
      "[1] 2\n",
      "[1] 3\n",
      "[1] 4\n",
      "[1] 5\n",
      "[1] 6\n",
      "[1] 7\n",
      "[1] 8\n",
      "[1] 9\n",
      "[1] 10\n"
     ]
    }
   ],
   "source": [
    "for (x in 1:10){\n",
    "    print(x)\n",
    "}"
   ]
  },
  {
   "cell_type": "code",
   "execution_count": 2,
   "id": "cd137492-f0bc-4e58-b267-9a3b76e07006",
   "metadata": {},
   "outputs": [
    {
     "name": "stdout",
     "output_type": "stream",
     "text": [
      "[1] 10\n"
     ]
    }
   ],
   "source": [
    "for (x in 10){\n",
    "    print(x)\n",
    "}"
   ]
  },
  {
   "cell_type": "code",
   "execution_count": 3,
   "id": "7068de20-2f39-4d14-9c9b-d0e505037a18",
   "metadata": {},
   "outputs": [
    {
     "name": "stdout",
     "output_type": "stream",
     "text": [
      "[1] \"apple\"\n",
      "[1] \"banana\"\n",
      "[1] \"cherry\"\n"
     ]
    }
   ],
   "source": [
    "fruit <- list(\"apple\",\"banana\",\"cherry\")\n",
    "\n",
    "for (x in fruit) {\n",
    "    print(x)\n",
    "}"
   ]
  },
  {
   "cell_type": "code",
   "execution_count": 4,
   "id": "d3c6c053-3dfd-4ed3-b0a5-692f7da8cc1a",
   "metadata": {},
   "outputs": [
    {
     "data": {
      "text/html": [
       "<ol>\n",
       "\t<li>'apple'</li>\n",
       "\t<li>'banana'</li>\n",
       "\t<li>'cherry'</li>\n",
       "</ol>\n"
      ],
      "text/latex": [
       "\\begin{enumerate}\n",
       "\\item 'apple'\n",
       "\\item 'banana'\n",
       "\\item 'cherry'\n",
       "\\end{enumerate}\n"
      ],
      "text/markdown": [
       "1. 'apple'\n",
       "2. 'banana'\n",
       "3. 'cherry'\n",
       "\n",
       "\n"
      ],
      "text/plain": [
       "[[1]]\n",
       "[1] \"apple\"\n",
       "\n",
       "[[2]]\n",
       "[1] \"banana\"\n",
       "\n",
       "[[3]]\n",
       "[1] \"cherry\"\n"
      ]
     },
     "metadata": {},
     "output_type": "display_data"
    }
   ],
   "source": [
    "fruit"
   ]
  },
  {
   "cell_type": "code",
   "execution_count": 5,
   "id": "2eb96aad-c187-47bb-8abb-f057feafc6ef",
   "metadata": {},
   "outputs": [
    {
     "name": "stdout",
     "output_type": "stream",
     "text": [
      "[1] 1\n",
      "[1] 2\n",
      "[1] 3\n",
      "[1] 4\n",
      "[1] 5\n",
      "[1] 6\n"
     ]
    }
   ],
   "source": [
    "dice <- c(1,2,3,4,5,6)\n",
    "\n",
    "for (x in dice) {\n",
    "    print(x)\n",
    "}"
   ]
  },
  {
   "cell_type": "markdown",
   "id": "9824f136-0e05-4b93-935e-10169ededa2f",
   "metadata": {},
   "source": [
    "## ***Break***"
   ]
  },
  {
   "cell_type": "markdown",
   "id": "7e76ca79-eb76-4627-8ff6-ce113428bfb2",
   "metadata": {},
   "source": [
    "With the `break` statement, we can stop the loop before it has looped through all the items.\n",
    "\n"
   ]
  },
  {
   "cell_type": "code",
   "execution_count": 6,
   "id": "c8890d02-f6e1-4c71-b121-44ac5278bc42",
   "metadata": {},
   "outputs": [
    {
     "name": "stdout",
     "output_type": "stream",
     "text": [
      "[1] \"apple\"\n",
      "[1] \"banana\"\n"
     ]
    }
   ],
   "source": [
    "fruit <- list(\"apple\",\"banana\",\"cherry\")\n",
    "\n",
    "for (x in fruit) {\n",
    "    if (x == \"cherry\"){\n",
    "        break\n",
    "    }\n",
    "    print(x)\n",
    "}"
   ]
  },
  {
   "cell_type": "markdown",
   "id": "3e5a9695-d099-4599-8b7a-06b3c604108b",
   "metadata": {},
   "source": [
    "## ***Next***"
   ]
  },
  {
   "cell_type": "markdown",
   "id": "2ddccac4-dd69-45b3-b29f-960de248dfa3",
   "metadata": {},
   "source": [
    "With the `next`statement, we can skip an iteration without terminating the loop:\n",
    "\n"
   ]
  },
  {
   "cell_type": "markdown",
   "id": "0f43e9c1-9999-4341-8816-01883008d4d0",
   "metadata": {},
   "source": [
    "Skip `\"banana\"`\n",
    "\n"
   ]
  },
  {
   "cell_type": "code",
   "execution_count": 7,
   "id": "23dfdd2e-df54-4d56-b5f6-e006050a27c8",
   "metadata": {},
   "outputs": [
    {
     "name": "stdout",
     "output_type": "stream",
     "text": [
      "[1] \"apple\"\n",
      "[1] \"cherry\"\n"
     ]
    }
   ],
   "source": [
    "fruit <- list(\"apple\",\"banana\",\"cherry\")\n",
    "\n",
    "for (x in fruit) {\n",
    "    if (x == \"banana\"){\n",
    "        next\n",
    "    }\n",
    "    print(x)\n",
    "}"
   ]
  },
  {
   "cell_type": "code",
   "execution_count": 8,
   "id": "5b15713e-56c9-4209-a9da-dfc6989653ca",
   "metadata": {},
   "outputs": [
    {
     "name": "stdout",
     "output_type": "stream",
     "text": [
      "[1] \"The dice number is 1 Not Working\"\n",
      "[1] \"The dice number is 2 Not Working\"\n",
      "[1] \"The dice number is 3 Not Working\"\n",
      "[1] \"The dice number is 4 Not Working\"\n",
      "[1] \"The dice number is 5 Not Working\"\n",
      "[1] \"The dice number is 6 Working\"\n"
     ]
    }
   ],
   "source": [
    "dice <- 1:6 \n",
    "\n",
    "for (x in dice) {\n",
    "    if (x == 6) {\n",
    "        print(paste(\"The dice number is\",x,\"Working\"))\n",
    "    }else{\n",
    "        print(paste(\"The dice number is\",x,\"Not Working\"))\n",
    "    }\n",
    "}"
   ]
  }
 ],
 "metadata": {
  "kernelspec": {
   "display_name": "R",
   "language": "R",
   "name": "ir"
  },
  "language_info": {
   "codemirror_mode": "r",
   "file_extension": ".r",
   "mimetype": "text/x-r-source",
   "name": "R",
   "pygments_lexer": "r",
   "version": "4.5.1"
  }
 },
 "nbformat": 4,
 "nbformat_minor": 5
}
