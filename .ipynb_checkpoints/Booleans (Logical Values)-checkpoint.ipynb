{
 "cells": [
  {
   "cell_type": "markdown",
   "id": "79614a50-2074-48b7-8303-ea63668e6268",
   "metadata": {},
   "source": [
    "## ***Booleans (Logical Values)***\n",
    "- In programming, you often need to know if an expression is true or false.\n",
    "\n",
    "- You can evaluate any expression in R, and get one of two answers, TRUE or FALSE.\n",
    "\n",
    "- When you compare two values, the expression is evaluated and R returns the logical answer."
   ]
  },
  {
   "cell_type": "code",
   "execution_count": 1,
   "id": "d98c8eb0-685b-4442-b4ca-7a0c70df1e80",
   "metadata": {},
   "outputs": [
    {
     "data": {
      "text/html": [
       "TRUE"
      ],
      "text/latex": [
       "TRUE"
      ],
      "text/markdown": [
       "TRUE"
      ],
      "text/plain": [
       "[1] TRUE"
      ]
     },
     "metadata": {},
     "output_type": "display_data"
    },
    {
     "data": {
      "text/html": [
       "FALSE"
      ],
      "text/latex": [
       "FALSE"
      ],
      "text/markdown": [
       "FALSE"
      ],
      "text/plain": [
       "[1] FALSE"
      ]
     },
     "metadata": {},
     "output_type": "display_data"
    },
    {
     "data": {
      "text/html": [
       "FALSE"
      ],
      "text/latex": [
       "FALSE"
      ],
      "text/markdown": [
       "FALSE"
      ],
      "text/plain": [
       "[1] FALSE"
      ]
     },
     "metadata": {},
     "output_type": "display_data"
    }
   ],
   "source": [
    "10 > 9    # TRUE because 10 is greater than 9\n",
    "10 == 9   # FALSE because 10 is not equal to 9\n",
    "10 < 9    # FALSE because 10 is greater than 9"
   ]
  },
  {
   "cell_type": "code",
   "execution_count": 2,
   "id": "fc3315bb-7f8c-4505-8571-1f7f95d0ec10",
   "metadata": {},
   "outputs": [
    {
     "data": {
      "text/html": [
       "FALSE"
      ],
      "text/latex": [
       "FALSE"
      ],
      "text/markdown": [
       "FALSE"
      ],
      "text/plain": [
       "[1] FALSE"
      ]
     },
     "metadata": {},
     "output_type": "display_data"
    },
    {
     "data": {
      "text/html": [
       "TRUE"
      ],
      "text/latex": [
       "TRUE"
      ],
      "text/markdown": [
       "TRUE"
      ],
      "text/plain": [
       "[1] TRUE"
      ]
     },
     "metadata": {},
     "output_type": "display_data"
    }
   ],
   "source": [
    "a <- 9\n",
    "b <- 10\n",
    "\n",
    "a > b\n",
    "a < b"
   ]
  },
  {
   "cell_type": "markdown",
   "id": "62c07454-f17c-40d2-bb24-eacb4a78ca48",
   "metadata": {},
   "source": [
    "We can also run a condition in an `if` statement, "
   ]
  },
  {
   "cell_type": "code",
   "execution_count": 3,
   "id": "68958e0a-eb33-4699-aa5e-8e4d973de65a",
   "metadata": {},
   "outputs": [
    {
     "name": "stdout",
     "output_type": "stream",
     "text": [
      "[1] \"b is greater than a\"\n"
     ]
    }
   ],
   "source": [
    "a <- 9\n",
    "b <- 10\n",
    "\n",
    "\n",
    "if (b<a){\n",
    "    print(\"b is less than a\")\n",
    "} else{\n",
    "    print(\"b is greater than a\")\n",
    "    }"
   ]
  }
 ],
 "metadata": {
  "kernelspec": {
   "display_name": "R",
   "language": "R",
   "name": "ir"
  },
  "language_info": {
   "codemirror_mode": "r",
   "file_extension": ".r",
   "mimetype": "text/x-r-source",
   "name": "R",
   "pygments_lexer": "r",
   "version": "4.5.1"
  }
 },
 "nbformat": 4,
 "nbformat_minor": 5
}
