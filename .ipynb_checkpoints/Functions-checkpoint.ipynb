{
 "cells": [
  {
   "cell_type": "markdown",
   "id": "f3ac1a22-ebff-4d3d-8345-0043fd28d4a7",
   "metadata": {},
   "source": [
    "## ***R Functions***"
   ]
  },
  {
   "cell_type": "markdown",
   "id": "19eb22a4-319b-4a48-9527-ff56dd4f0d98",
   "metadata": {},
   "source": [
    "- A function is a block of code which only runs when it is called.\n",
    "\n",
    "- You can pass data, known as parameters, into a function.\n",
    "\n",
    "- A function can return data as a result.\n",
    "\n"
   ]
  },
  {
   "cell_type": "markdown",
   "id": "0ba4f758-27ae-4b04-a106-9835ce979925",
   "metadata": {},
   "source": [
    "### ***Creating a Function***"
   ]
  },
  {
   "cell_type": "markdown",
   "id": "410b6a96-7789-49d5-a0cf-e057c1efb96e",
   "metadata": {},
   "source": [
    "To create a function, use the function() keyword"
   ]
  },
  {
   "cell_type": "code",
   "execution_count": 3,
   "id": "7b5a23d6-0261-4c20-b9f6-27e2f0e60f29",
   "metadata": {},
   "outputs": [],
   "source": [
    "my_function <- function() {\n",
    "    print(\"Hello world\")\n",
    "}"
   ]
  },
  {
   "cell_type": "markdown",
   "id": "40a0b7f2-784c-425e-9b55-6a1c35527dc4",
   "metadata": {},
   "source": [
    "### ***Call a Function***\n",
    "To call a function, use the function name followed by parenthesis, like my_function()."
   ]
  },
  {
   "cell_type": "code",
   "execution_count": 5,
   "id": "da14ed75-f776-4d93-9eeb-668bc5816933",
   "metadata": {},
   "outputs": [
    {
     "name": "stdout",
     "output_type": "stream",
     "text": [
      "[1] \"Hello world\"\n"
     ]
    }
   ],
   "source": [
    "my_function()"
   ]
  },
  {
   "cell_type": "markdown",
   "id": "2b96f9c3-c100-4850-a6f4-546c3967d9cb",
   "metadata": {},
   "source": [
    "### ***Arguments***"
   ]
  },
  {
   "cell_type": "markdown",
   "id": "081aa920-a514-496a-b437-602505485666",
   "metadata": {},
   "source": [
    "- Information can be passed into functions as arguments.\n",
    "\n",
    "- Arguments are specified after the function name, inside the parentheses. You can add as many arguments as you want, just separate them with a comma.\n"
   ]
  },
  {
   "cell_type": "code",
   "execution_count": 6,
   "id": "b8b2a631-6a6e-4721-913d-5cc1a707917b",
   "metadata": {},
   "outputs": [],
   "source": [
    "my_function <- function(a,b) {\n",
    "    print(a+b)\n",
    "}"
   ]
  },
  {
   "cell_type": "code",
   "execution_count": 7,
   "id": "b6705279-0fe8-4029-a411-de9c8dead45c",
   "metadata": {},
   "outputs": [
    {
     "name": "stdout",
     "output_type": "stream",
     "text": [
      "[1] 5\n"
     ]
    }
   ],
   "source": [
    "my_function(2,3)"
   ]
  },
  {
   "cell_type": "code",
   "execution_count": 13,
   "id": "562b06d4-507a-42d1-9b25-0e29f22275cd",
   "metadata": {},
   "outputs": [],
   "source": [
    "my_function <- function(name,salary) {\n",
    "    print(paste(\"Employee Name: \",name))\n",
    "    print(paste(\"Employee Salary: \",salary))\n",
    "}"
   ]
  },
  {
   "cell_type": "code",
   "execution_count": 16,
   "id": "88c91b93-3368-4c18-8c3f-351813b9dfa6",
   "metadata": {},
   "outputs": [
    {
     "name": "stdout",
     "output_type": "stream",
     "text": [
      "[1] \"Employee Name:  Shanzy\"\n",
      "[1] \"Employee Salary:  100000\"\n"
     ]
    }
   ],
   "source": [
    "my_function(\"Shanzy\",\"100000\")"
   ]
  },
  {
   "cell_type": "code",
   "execution_count": 17,
   "id": "a41fefdf-8a5b-48b7-a971-dd4b51953752",
   "metadata": {},
   "outputs": [
    {
     "data": {
      "text/html": [
       "'Peter Griffin'"
      ],
      "text/latex": [
       "'Peter Griffin'"
      ],
      "text/markdown": [
       "'Peter Griffin'"
      ],
      "text/plain": [
       "[1] \"Peter Griffin\""
      ]
     },
     "metadata": {},
     "output_type": "display_data"
    },
    {
     "data": {
      "text/html": [
       "'Lois Griffin'"
      ],
      "text/latex": [
       "'Lois Griffin'"
      ],
      "text/markdown": [
       "'Lois Griffin'"
      ],
      "text/plain": [
       "[1] \"Lois Griffin\""
      ]
     },
     "metadata": {},
     "output_type": "display_data"
    },
    {
     "data": {
      "text/html": [
       "'Stewie Griffin'"
      ],
      "text/latex": [
       "'Stewie Griffin'"
      ],
      "text/markdown": [
       "'Stewie Griffin'"
      ],
      "text/plain": [
       "[1] \"Stewie Griffin\""
      ]
     },
     "metadata": {},
     "output_type": "display_data"
    }
   ],
   "source": [
    "my_function <- function(fname) {\n",
    "  paste(fname, \"Griffin\")\n",
    "}\n",
    "\n",
    "my_function(\"Peter\")\n",
    "my_function(\"Lois\")\n",
    "my_function(\"Stewie\")"
   ]
  },
  {
   "cell_type": "markdown",
   "id": "eeee56d3-c24e-4774-9843-f4b47dbaf611",
   "metadata": {},
   "source": [
    "### ***Default Parameter Value***"
   ]
  },
  {
   "cell_type": "markdown",
   "id": "3c70d0e4-40c7-4ba6-b496-03a78bbaf2ed",
   "metadata": {},
   "source": [
    "- The following example shows how to use a default parameter value.\n",
    "\n",
    "- If we call the function without an argument, it uses the default value,"
   ]
  },
  {
   "cell_type": "code",
   "execution_count": 19,
   "id": "ad83dcb0-5e82-421b-9da4-caa3348c0753",
   "metadata": {},
   "outputs": [
    {
     "data": {
      "text/html": [
       "'I am from Sweden'"
      ],
      "text/latex": [
       "'I am from Sweden'"
      ],
      "text/markdown": [
       "'I am from Sweden'"
      ],
      "text/plain": [
       "[1] \"I am from Sweden\""
      ]
     },
     "metadata": {},
     "output_type": "display_data"
    },
    {
     "data": {
      "text/html": [
       "'I am from India'"
      ],
      "text/latex": [
       "'I am from India'"
      ],
      "text/markdown": [
       "'I am from India'"
      ],
      "text/plain": [
       "[1] \"I am from India\""
      ]
     },
     "metadata": {},
     "output_type": "display_data"
    },
    {
     "data": {
      "text/html": [
       "'I am from Norway'"
      ],
      "text/latex": [
       "'I am from Norway'"
      ],
      "text/markdown": [
       "'I am from Norway'"
      ],
      "text/plain": [
       "[1] \"I am from Norway\""
      ]
     },
     "metadata": {},
     "output_type": "display_data"
    },
    {
     "data": {
      "text/html": [
       "'I am from USA'"
      ],
      "text/latex": [
       "'I am from USA'"
      ],
      "text/markdown": [
       "'I am from USA'"
      ],
      "text/plain": [
       "[1] \"I am from USA\""
      ]
     },
     "metadata": {},
     "output_type": "display_data"
    }
   ],
   "source": [
    "my_function <- function(country = \"Norway\") {\n",
    "  paste(\"I am from\", country)\n",
    "}\n",
    "\n",
    "my_function(\"Sweden\")\n",
    "my_function(\"India\")\n",
    "my_function() # will get the default value, which is Norway\n",
    "my_function(\"USA\")"
   ]
  },
  {
   "cell_type": "markdown",
   "id": "53a33a35-f970-4adf-80e0-da2af5a62118",
   "metadata": {},
   "source": [
    "### ***Return Values***"
   ]
  },
  {
   "cell_type": "markdown",
   "id": "15fe5448-6286-49f7-b6b0-66e168f28cfc",
   "metadata": {},
   "source": [
    "To let a function return a result, use the return() function."
   ]
  },
  {
   "cell_type": "code",
   "execution_count": 20,
   "id": "22ea02c3-9699-4ddd-9633-00c700f939f2",
   "metadata": {},
   "outputs": [
    {
     "name": "stdout",
     "output_type": "stream",
     "text": [
      "[1] 15\n",
      "[1] 25\n",
      "[1] 45\n"
     ]
    }
   ],
   "source": [
    "my_function <- function(x) {\n",
    "  return (5 * x)\n",
    "}\n",
    "\n",
    "print(my_function(3))\n",
    "print(my_function(5))\n",
    "print(my_function(9))"
   ]
  }
 ],
 "metadata": {
  "kernelspec": {
   "display_name": "R",
   "language": "R",
   "name": "ir"
  },
  "language_info": {
   "codemirror_mode": "r",
   "file_extension": ".r",
   "mimetype": "text/x-r-source",
   "name": "R",
   "pygments_lexer": "r",
   "version": "4.5.1"
  }
 },
 "nbformat": 4,
 "nbformat_minor": 5
}
