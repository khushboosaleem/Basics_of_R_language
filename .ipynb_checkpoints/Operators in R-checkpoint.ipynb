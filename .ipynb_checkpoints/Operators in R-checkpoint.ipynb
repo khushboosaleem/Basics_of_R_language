{
 "cells": [
  {
   "cell_type": "markdown",
   "id": "9d488bf6-a099-4d28-8903-cf7cd201de1c",
   "metadata": {},
   "source": [
    "## ***Arithmetic Operators***\n",
    "\n",
    "Arithmetic operators are used with numeric values to perform common mathematical operations."
   ]
  },
  {
   "cell_type": "raw",
   "id": "575f65a5-e1f8-4620-91c4-63da75b19492",
   "metadata": {},
   "source": [
    "Operator\tName\t                               Example\n",
    "+\t        Addition\t                           x + y\t\n",
    "-\t        Subtraction\t                           x - y\t\n",
    "*\t        Multiplication\t                       x * y\t\n",
    "/\t        Division\t                           x / y\t\n",
    "^\t        Exponent\t                           x ^ y\t\n",
    "%%\t        Modulus                                x %% y   (Remainder from division)\t\n",
    "%/%\t        Integer Division\t                   x%/%y"
   ]
  },
  {
   "cell_type": "code",
   "execution_count": 3,
   "id": "e0aa9a1a-86e7-4dbd-8859-58b6cce89c68",
   "metadata": {},
   "outputs": [
    {
     "data": {
      "text/html": [
       "5"
      ],
      "text/latex": [
       "5"
      ],
      "text/markdown": [
       "5"
      ],
      "text/plain": [
       "[1] 5"
      ]
     },
     "metadata": {},
     "output_type": "display_data"
    },
    {
     "data": {
      "text/html": [
       "5"
      ],
      "text/latex": [
       "5"
      ],
      "text/markdown": [
       "5"
      ],
      "text/plain": [
       "[1] 5"
      ]
     },
     "metadata": {},
     "output_type": "display_data"
    }
   ],
   "source": [
    "x <- 5\n",
    "y <- 5\n",
    "x\n",
    "y"
   ]
  },
  {
   "cell_type": "code",
   "execution_count": 5,
   "id": "f6ee747a-e960-427b-9c80-41b2d854201b",
   "metadata": {},
   "outputs": [
    {
     "data": {
      "text/html": [
       "10"
      ],
      "text/latex": [
       "10"
      ],
      "text/markdown": [
       "10"
      ],
      "text/plain": [
       "[1] 10"
      ]
     },
     "metadata": {},
     "output_type": "display_data"
    }
   ],
   "source": [
    "x+y  # Addition"
   ]
  },
  {
   "cell_type": "code",
   "execution_count": 6,
   "id": "fa66fec8-b6aa-42d9-871e-197b67bb3a74",
   "metadata": {},
   "outputs": [
    {
     "data": {
      "text/html": [
       "0"
      ],
      "text/latex": [
       "0"
      ],
      "text/markdown": [
       "0"
      ],
      "text/plain": [
       "[1] 0"
      ]
     },
     "metadata": {},
     "output_type": "display_data"
    }
   ],
   "source": [
    "x-y # subtraction"
   ]
  },
  {
   "cell_type": "code",
   "execution_count": 8,
   "id": "06ead23e-c530-425c-b896-99773d0d6fd7",
   "metadata": {},
   "outputs": [
    {
     "data": {
      "text/html": [
       "25"
      ],
      "text/latex": [
       "25"
      ],
      "text/markdown": [
       "25"
      ],
      "text/plain": [
       "[1] 25"
      ]
     },
     "metadata": {},
     "output_type": "display_data"
    }
   ],
   "source": [
    "x * y   # Multiplication"
   ]
  },
  {
   "cell_type": "code",
   "execution_count": 9,
   "id": "f3b1e5cd-83e1-4aa8-9679-7ea060078ce8",
   "metadata": {},
   "outputs": [
    {
     "data": {
      "text/html": [
       "1"
      ],
      "text/latex": [
       "1"
      ],
      "text/markdown": [
       "1"
      ],
      "text/plain": [
       "[1] 1"
      ]
     },
     "metadata": {},
     "output_type": "display_data"
    }
   ],
   "source": [
    "x / y   # Division"
   ]
  },
  {
   "cell_type": "code",
   "execution_count": 10,
   "id": "fc9c75b0-5186-40da-a254-4007c67ca7f3",
   "metadata": {},
   "outputs": [
    {
     "data": {
      "text/html": [
       "0"
      ],
      "text/latex": [
       "0"
      ],
      "text/markdown": [
       "0"
      ],
      "text/plain": [
       "[1] 0"
      ]
     },
     "metadata": {},
     "output_type": "display_data"
    }
   ],
   "source": [
    "x %% y   # Modulus"
   ]
  },
  {
   "cell_type": "code",
   "execution_count": 12,
   "id": "752e0d13-1517-4245-8dc6-00e3e73bd2dc",
   "metadata": {},
   "outputs": [
    {
     "data": {
      "text/html": [
       "1"
      ],
      "text/latex": [
       "1"
      ],
      "text/markdown": [
       "1"
      ],
      "text/plain": [
       "[1] 1"
      ]
     },
     "metadata": {},
     "output_type": "display_data"
    }
   ],
   "source": [
    "x %/% y   # Integer Division"
   ]
  }
 ],
 "metadata": {
  "kernelspec": {
   "display_name": "R",
   "language": "R",
   "name": "ir"
  },
  "language_info": {
   "codemirror_mode": "r",
   "file_extension": ".r",
   "mimetype": "text/x-r-source",
   "name": "R",
   "pygments_lexer": "r",
   "version": "4.5.1"
  }
 },
 "nbformat": 4,
 "nbformat_minor": 5
}
