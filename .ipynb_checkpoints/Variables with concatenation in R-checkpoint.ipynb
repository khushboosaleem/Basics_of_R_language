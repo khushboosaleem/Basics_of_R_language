{
 "cells": [
  {
   "cell_type": "markdown",
   "id": "647df0d4-af44-4a18-a673-3dcf5805a92a",
   "metadata": {},
   "source": [
    "## Variable in R"
   ]
  },
  {
   "cell_type": "markdown",
   "id": "f991ce0b-6d64-4991-9794-b2542c2b65fe",
   "metadata": {},
   "source": [
    "**In R, you define a variable by assigning a value to a name (the variable) using the assignment operator (<- or =). Here's an explanation of how to define variables in R:**\n",
    "\n",
    "- `<-` is the most common assignment operator in R (although `=` works too).\n",
    "\n",
    "- variable_name is the name you give to your variable.\n",
    "\n",
    "- value is the data or object you want to assign to the variable."
   ]
  },
  {
   "cell_type": "code",
   "execution_count": 1,
   "id": "ff8efbee-7a35-48c2-9c3c-86a74a2f1e1d",
   "metadata": {},
   "outputs": [
    {
     "data": {
      "text/html": [
       "'khushboo Saleem'"
      ],
      "text/latex": [
       "'khushboo Saleem'"
      ],
      "text/markdown": [
       "'khushboo Saleem'"
      ],
      "text/plain": [
       "[1] \"khushboo Saleem\""
      ]
     },
     "metadata": {},
     "output_type": "display_data"
    },
    {
     "data": {
      "text/html": [
       "25"
      ],
      "text/latex": [
       "25"
      ],
      "text/markdown": [
       "25"
      ],
      "text/plain": [
       "[1] 25"
      ]
     },
     "metadata": {},
     "output_type": "display_data"
    },
    {
     "data": {
      "text/html": [
       "'Pizza'"
      ],
      "text/latex": [
       "'Pizza'"
      ],
      "text/markdown": [
       "'Pizza'"
      ],
      "text/plain": [
       "[1] \"Pizza\""
      ]
     },
     "metadata": {},
     "output_type": "display_data"
    }
   ],
   "source": [
    "name <- \"khushboo Saleem\"\n",
    "Age <- 25\n",
    "Fav_fruit <- \"Pizza\"\n",
    "name\n",
    "Age\n",
    "Fav_fruit"
   ]
  },
  {
   "cell_type": "code",
   "execution_count": 2,
   "id": "233a3ed2",
   "metadata": {},
   "outputs": [
    {
     "data": {
      "text/html": [
       "'khushboo Saleem'"
      ],
      "text/latex": [
       "'khushboo Saleem'"
      ],
      "text/markdown": [
       "'khushboo Saleem'"
      ],
      "text/plain": [
       "[1] \"khushboo Saleem\""
      ]
     },
     "metadata": {},
     "output_type": "display_data"
    },
    {
     "data": {
      "text/html": [
       "25"
      ],
      "text/latex": [
       "25"
      ],
      "text/markdown": [
       "25"
      ],
      "text/plain": [
       "[1] 25"
      ]
     },
     "metadata": {},
     "output_type": "display_data"
    },
    {
     "data": {
      "text/html": [
       "'Pizza'"
      ],
      "text/latex": [
       "'Pizza'"
      ],
      "text/markdown": [
       "'Pizza'"
      ],
      "text/plain": [
       "[1] \"Pizza\""
      ]
     },
     "metadata": {},
     "output_type": "display_data"
    }
   ],
   "source": [
    "name1 = \"khushboo Saleem\"\n",
    "Age1 = 25\n",
    "Fav_fruit1 = \"Pizza\"\n",
    "name1\n",
    "Age1\n",
    "Fav_fruit1"
   ]
  },
  {
   "cell_type": "markdown",
   "id": "32a62606-1ac6-48f8-9fb8-a30e74e31d23",
   "metadata": {},
   "source": [
    "## Concatenation "
   ]
  },
  {
   "cell_type": "markdown",
   "id": "4a2f6bfe-dfab-43a2-9d4f-eac435e95a92",
   "metadata": {},
   "source": [
    "- You can also concatenate, or join, two or more elements, by using the `paste()` function.\n",
    "\n",
    "- To combine both text and a variable, R uses comma `(,)`:"
   ]
  },
  {
   "cell_type": "code",
   "execution_count": 3,
   "id": "0628bbf5-745b-4b80-9224-6da1bb8aadcb",
   "metadata": {},
   "outputs": [
    {
     "data": {
      "text/html": [
       "<span style=white-space:pre-wrap>'R is  Awesome'</span>"
      ],
      "text/latex": [
       "'R is  Awesome'"
      ],
      "text/markdown": [
       "<span style=white-space:pre-wrap>'R is  Awesome'</span>"
      ],
      "text/plain": [
       "[1] \"R is  Awesome\""
      ]
     },
     "metadata": {},
     "output_type": "display_data"
    }
   ],
   "source": [
    "text <- \"Awesome\"\n",
    "paste(\"R is \",text)"
   ]
  },
  {
   "cell_type": "code",
   "execution_count": 4,
   "id": "d2e4c095",
   "metadata": {},
   "outputs": [
    {
     "data": {
      "text/html": [
       "'R is Awesome'"
      ],
      "text/latex": [
       "'R is Awesome'"
      ],
      "text/markdown": [
       "'R is Awesome'"
      ],
      "text/plain": [
       "[1] \"R is Awesome\""
      ]
     },
     "metadata": {},
     "output_type": "display_data"
    }
   ],
   "source": [
    "text1 <- \"R is\"\n",
    "text2 <- \"Awesome\"\n",
    "paste(text1,text2)"
   ]
  },
  {
   "cell_type": "markdown",
   "id": "877c8c25-200e-4501-ae78-cec71382128d",
   "metadata": {},
   "source": [
    "**For numbers, the + character works as a mathematical operator:**"
   ]
  },
  {
   "cell_type": "code",
   "execution_count": 5,
   "id": "42582994-0510-491e-bb90-c813e873eed2",
   "metadata": {},
   "outputs": [
    {
     "data": {
      "text/html": [
       "10"
      ],
      "text/latex": [
       "10"
      ],
      "text/markdown": [
       "10"
      ],
      "text/plain": [
       "[1] 10"
      ]
     },
     "metadata": {},
     "output_type": "display_data"
    }
   ],
   "source": [
    "num1 <- 5\n",
    "num2 <- 5\n",
    "num1+num2"
   ]
  },
  {
   "cell_type": "markdown",
   "id": "77c137ad-5d92-46bc-aa76-e745d48f3c7e",
   "metadata": {},
   "source": [
    "**If you try to combine a string (text) and a number, R will give you an error:**"
   ]
  },
  {
   "cell_type": "code",
   "execution_count": 6,
   "id": "a0a0b7c6-22a3-499e-bc53-5aad1b8b74c4",
   "metadata": {},
   "outputs": [],
   "source": [
    "# num <- 5\n",
    "# text <- \"Awesome\"\n",
    "# num + text"
   ]
  },
  {
   "cell_type": "markdown",
   "id": "9acc223a-da7c-49cc-829c-66669a0b5396",
   "metadata": {},
   "source": [
    "## Multiple Variables\n",
    "- R allows you to assign the same value to multiple variables in one line:"
   ]
  },
  {
   "cell_type": "code",
   "execution_count": 7,
   "id": "c6d97dae-2836-4f6a-8c48-00c11f64fe31",
   "metadata": {},
   "outputs": [
    {
     "data": {
      "text/html": [
       "'Orange'"
      ],
      "text/latex": [
       "'Orange'"
      ],
      "text/markdown": [
       "'Orange'"
      ],
      "text/plain": [
       "[1] \"Orange\""
      ]
     },
     "metadata": {},
     "output_type": "display_data"
    },
    {
     "data": {
      "text/html": [
       "'Orange'"
      ],
      "text/latex": [
       "'Orange'"
      ],
      "text/markdown": [
       "'Orange'"
      ],
      "text/plain": [
       "[1] \"Orange\""
      ]
     },
     "metadata": {},
     "output_type": "display_data"
    },
    {
     "data": {
      "text/html": [
       "'Orange'"
      ],
      "text/latex": [
       "'Orange'"
      ],
      "text/markdown": [
       "'Orange'"
      ],
      "text/plain": [
       "[1] \"Orange\""
      ]
     },
     "metadata": {},
     "output_type": "display_data"
    }
   ],
   "source": [
    "# Assign the same value to multiple variables in one line\n",
    "var1 <- var2 <- var3 <- \"Orange\"\n",
    "\n",
    "# print multiple variable\n",
    "var1\n",
    "var2\n",
    "var3"
   ]
  },
  {
   "cell_type": "code",
   "execution_count": 8,
   "id": "a62e885d-d607-4abc-8acf-76d9183dcd24",
   "metadata": {},
   "outputs": [],
   "source": [
    "# Legal variable names:\n",
    "myvar <- \"John\"\n",
    "my_var <- \"John\"\n",
    "myVar <- \"John\"\n",
    "MYVAR <- \"John\"\n",
    "myvar2 <- \"John\"\n",
    ".myvar <- \"John\"\n",
    "\n",
    "# # Illegal variable names:\n",
    "# 2myvar <- \"John\"\n",
    "# my-var <- \"John\"\n",
    "# my var <- \"John\"\n",
    "# _my_var <- \"John\"\n",
    "# my_v@ar <- \"John\"\n",
    "# TRUE <- \"John\""
   ]
  }
 ],
 "metadata": {
  "kernelspec": {
   "display_name": "R",
   "language": "R",
   "name": "ir"
  },
  "language_info": {
   "codemirror_mode": "r",
   "file_extension": ".r",
   "mimetype": "text/x-r-source",
   "name": "R",
   "pygments_lexer": "r",
   "version": "4.5.1"
  }
 },
 "nbformat": 4,
 "nbformat_minor": 5
}
