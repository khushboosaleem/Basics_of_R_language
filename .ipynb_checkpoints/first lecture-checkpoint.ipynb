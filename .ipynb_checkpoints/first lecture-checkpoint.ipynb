{
 "cells": [
  {
   "cell_type": "code",
   "execution_count": 1,
   "id": "7db2e632-77e4-4ea7-8bcb-6a0da4ea4c72",
   "metadata": {},
   "outputs": [
    {
     "data": {
      "text/html": [
       "'hello world'"
      ],
      "text/latex": [
       "'hello world'"
      ],
      "text/markdown": [
       "'hello world'"
      ],
      "text/plain": [
       "[1] \"hello world\""
      ]
     },
     "metadata": {},
     "output_type": "display_data"
    }
   ],
   "source": [
    "\"hello world\""
   ]
  },
  {
   "cell_type": "code",
   "execution_count": 2,
   "id": "12d90be5-2f48-4ce6-a329-a64a40c40c15",
   "metadata": {},
   "outputs": [
    {
     "name": "stdout",
     "output_type": "stream",
     "text": [
      "[1] 10\n"
     ]
    }
   ],
   "source": [
    "print(5+5)"
   ]
  },
  {
   "cell_type": "code",
   "execution_count": 3,
   "id": "47281e1d-2ee6-4df4-9415-08682e845d28",
   "metadata": {},
   "outputs": [
    {
     "data": {
      "text/html": [
       "10"
      ],
      "text/latex": [
       "10"
      ],
      "text/markdown": [
       "10"
      ],
      "text/plain": [
       "[1] 10"
      ]
     },
     "metadata": {},
     "output_type": "display_data"
    }
   ],
   "source": [
    "5+5"
   ]
  },
  {
   "cell_type": "code",
   "execution_count": 4,
   "id": "252fb8ee-3b37-46fa-b6b9-80cad005122d",
   "metadata": {},
   "outputs": [
    {
     "name": "stdout",
     "output_type": "stream",
     "text": [
      "[1] \"hello world\"\n"
     ]
    }
   ],
   "source": [
    "print(\"hello world\")"
   ]
  },
  {
   "cell_type": "code",
   "execution_count": 5,
   "id": "abed5212-de22-42ac-a3c9-52989afaf45a",
   "metadata": {},
   "outputs": [
    {
     "data": {
      "image/png": "[encoded data removed]",
      "text/plain": [
       "plot without title"
      ]
     },
     "metadata": {
      "image/png": {
       "height": 420,
       "width": 420
      }
     },
     "output_type": "display_data"
    }
   ],
   "source": [
    "plot(1:10)"
   ]
  },
  {
   "cell_type": "code",
   "execution_count": 7,
   "id": "d08f9bb2-b4b4-47ef-8cb4-ba4c2d57ac41",
   "metadata": {},
   "outputs": [
    {
     "data": {
      "text/html": [
       "'Hello world'"
      ],
      "text/latex": [
       "'Hello world'"
      ],
      "text/markdown": [
       "'Hello world'"
      ],
      "text/plain": [
       "[1] \"Hello world\""
      ]
     },
     "metadata": {},
     "output_type": "display_data"
    }
   ],
   "source": [
    "'Hello world'"
   ]
  },
  {
   "cell_type": "code",
   "execution_count": 14,
   "id": "6eb0e48f",
   "metadata": {},
   "outputs": [
    {
     "data": {
      "text/html": [
       "'Hello\\'s world'"
      ],
      "text/latex": [
       "'Hello\\textbackslash{}'s world'"
      ],
      "text/markdown": [
       "'Hello\\'s world'"
      ],
      "text/plain": [
       "[1] \"Hello's world\""
      ]
     },
     "metadata": {},
     "output_type": "display_data"
    }
   ],
   "source": [
    "\"Hello's world\""
   ]
  },
  {
   "cell_type": "code",
   "execution_count": 15,
   "id": "71f88281-1c74-41fa-b1fb-574a30063558",
   "metadata": {},
   "outputs": [
    {
     "name": "stdout",
     "output_type": "stream",
     "text": [
      "[1] \"Hello's world\"\n"
     ]
    }
   ],
   "source": [
    "print(\"Hello's world\")"
   ]
  },
  {
   "cell_type": "markdown",
   "id": "7c88102f-e026-471c-b705-58bc7099d2f8",
   "metadata": {},
   "source": [
    "## Loops"
   ]
  },
  {
   "cell_type": "code",
   "execution_count": 16,
   "id": "cb8b951e-248d-47eb-9351-838eece2081f",
   "metadata": {},
   "outputs": [
    {
     "name": "stdout",
     "output_type": "stream",
     "text": [
      "[1] 1\n",
      "[1] 2\n",
      "[1] 3\n",
      "[1] 4\n",
      "[1] 5\n",
      "[1] 6\n",
      "[1] 7\n",
      "[1] 8\n",
      "[1] 9\n",
      "[1] 10\n"
     ]
    }
   ],
   "source": [
    "for (x in 1:10) {\n",
    "    print(x)\n",
    "}"
   ]
  },
  {
   "cell_type": "code",
   "execution_count": 17,
   "id": "fd4b0454-276c-4e36-ab27-68485040f8f9",
   "metadata": {},
   "outputs": [
    {
     "name": "stdout",
     "output_type": "stream",
     "text": [
      "[1] 1\n",
      "[1] 2\n",
      "[1] 3\n",
      "[1] 4\n",
      "[1] 5\n",
      "[1] 6\n",
      "[1] 7\n",
      "[1] 8\n",
      "[1] 9\n",
      "[1] 10\n",
      "[1] 11\n",
      "[1] 12\n",
      "[1] 13\n",
      "[1] 14\n",
      "[1] 15\n",
      "[1] 16\n",
      "[1] 17\n",
      "[1] 18\n",
      "[1] 19\n",
      "[1] 20\n"
     ]
    }
   ],
   "source": [
    "for (num in 1:20){\n",
    "    print(num)\n",
    "}"
   ]
  },
  {
   "cell_type": "markdown",
   "id": "4f081976-95c5-4c47-b1f5-2623563496bb",
   "metadata": {},
   "source": [
    "## Comments"
   ]
  },
  {
   "cell_type": "code",
   "execution_count": 22,
   "id": "8c041d6f-47e4-4d4a-91ce-f2e4f488bc95",
   "metadata": {},
   "outputs": [
    {
     "name": "stdout",
     "output_type": "stream",
     "text": [
      "[1] \"hello world\"\n"
     ]
    }
   ],
   "source": [
    "# This is Sinle line comment\n",
    "\n",
    "print(\"hello world\")"
   ]
  },
  {
   "cell_type": "code",
   "execution_count": 21,
   "id": "d167b1d4-dd81-4da9-8b43-6b1cf139a6d6",
   "metadata": {},
   "outputs": [
    {
     "data": {
      "text/html": [
       "'Hello World!'"
      ],
      "text/latex": [
       "'Hello World!'"
      ],
      "text/markdown": [
       "'Hello World!'"
      ],
      "text/plain": [
       "[1] \"Hello World!\""
      ]
     },
     "metadata": {},
     "output_type": "display_data"
    }
   ],
   "source": [
    "# This is a comment\n",
    "# written in\n",
    "# more than just one line\n",
    "\"Hello World!\""
   ]
  },
  {
   "cell_type": "markdown",
   "id": "647df0d4-af44-4a18-a673-3dcf5805a92a",
   "metadata": {},
   "source": [
    "## Variable in R"
   ]
  },
  {
   "cell_type": "markdown",
   "id": "f991ce0b-6d64-4991-9794-b2542c2b65fe",
   "metadata": {},
   "source": [
    "**In R, you define a variable by assigning a value to a name (the variable) using the assignment operator (<- or =). Here's an explanation of how to define variables in R:**\n",
    "\n",
    "- `<-` is the most common assignment operator in R (although `=` works too).\n",
    "\n",
    "- variable_name is the name you give to your variable.\n",
    "\n",
    "- value is the data or object you want to assign to the variable."
   ]
  },
  {
   "cell_type": "code",
   "execution_count": 23,
   "id": "ff8efbee-7a35-48c2-9c3c-86a74a2f1e1d",
   "metadata": {},
   "outputs": [
    {
     "data": {
      "text/html": [
       "'khushboo Saleem'"
      ],
      "text/latex": [
       "'khushboo Saleem'"
      ],
      "text/markdown": [
       "'khushboo Saleem'"
      ],
      "text/plain": [
       "[1] \"khushboo Saleem\""
      ]
     },
     "metadata": {},
     "output_type": "display_data"
    },
    {
     "data": {
      "text/html": [
       "25"
      ],
      "text/latex": [
       "25"
      ],
      "text/markdown": [
       "25"
      ],
      "text/plain": [
       "[1] 25"
      ]
     },
     "metadata": {},
     "output_type": "display_data"
    },
    {
     "data": {
      "text/html": [
       "'Pizza'"
      ],
      "text/latex": [
       "'Pizza'"
      ],
      "text/markdown": [
       "'Pizza'"
      ],
      "text/plain": [
       "[1] \"Pizza\""
      ]
     },
     "metadata": {},
     "output_type": "display_data"
    }
   ],
   "source": [
    "name <- \"khushboo Saleem\"\n",
    "Age <- 25\n",
    "Fav_fruit <- \"Pizza\"\n",
    "name\n",
    "Age\n",
    "Fav_fruit"
   ]
  },
  {
   "cell_type": "code",
   "execution_count": 25,
   "id": "233a3ed2",
   "metadata": {},
   "outputs": [
    {
     "data": {
      "text/html": [
       "'khushboo Saleem'"
      ],
      "text/latex": [
       "'khushboo Saleem'"
      ],
      "text/markdown": [
       "'khushboo Saleem'"
      ],
      "text/plain": [
       "[1] \"khushboo Saleem\""
      ]
     },
     "metadata": {},
     "output_type": "display_data"
    },
    {
     "data": {
      "text/html": [
       "25"
      ],
      "text/latex": [
       "25"
      ],
      "text/markdown": [
       "25"
      ],
      "text/plain": [
       "[1] 25"
      ]
     },
     "metadata": {},
     "output_type": "display_data"
    },
    {
     "data": {
      "text/html": [
       "'Pizza'"
      ],
      "text/latex": [
       "'Pizza'"
      ],
      "text/markdown": [
       "'Pizza'"
      ],
      "text/plain": [
       "[1] \"Pizza\""
      ]
     },
     "metadata": {},
     "output_type": "display_data"
    }
   ],
   "source": [
    "name1 = \"khushboo Saleem\"\n",
    "Age1 = 25\n",
    "Fav_fruit1 = \"Pizza\"\n",
    "name1\n",
    "Age1\n",
    "Fav_fruit1"
   ]
  },
  {
   "cell_type": "markdown",
   "id": "32a62606-1ac6-48f8-9fb8-a30e74e31d23",
   "metadata": {},
   "source": [
    "## Concatenation "
   ]
  },
  {
   "cell_type": "markdown",
   "id": "4a2f6bfe-dfab-43a2-9d4f-eac435e95a92",
   "metadata": {},
   "source": [
    "- You can also concatenate, or join, two or more elements, by using the `paste()` function.\n",
    "\n",
    "- To combine both text and a variable, R uses comma `(,)`:"
   ]
  },
  {
   "cell_type": "code",
   "execution_count": 27,
   "id": "0628bbf5-745b-4b80-9224-6da1bb8aadcb",
   "metadata": {},
   "outputs": [
    {
     "data": {
      "text/html": [
       "<span style=white-space:pre-wrap>'R is  Awesome'</span>"
      ],
      "text/latex": [
       "'R is  Awesome'"
      ],
      "text/markdown": [
       "<span style=white-space:pre-wrap>'R is  Awesome'</span>"
      ],
      "text/plain": [
       "[1] \"R is  Awesome\""
      ]
     },
     "metadata": {},
     "output_type": "display_data"
    }
   ],
   "source": [
    "text <- \"Awesome\"\n",
    "paste(\"R is \",text)"
   ]
  },
  {
   "cell_type": "code",
   "execution_count": 29,
   "id": "d2e4c095",
   "metadata": {},
   "outputs": [
    {
     "data": {
      "text/html": [
       "'R is Awesome'"
      ],
      "text/latex": [
       "'R is Awesome'"
      ],
      "text/markdown": [
       "'R is Awesome'"
      ],
      "text/plain": [
       "[1] \"R is Awesome\""
      ]
     },
     "metadata": {},
     "output_type": "display_data"
    }
   ],
   "source": [
    "text1 <- \"R is\"\n",
    "text2 <- \"Awesome\"\n",
    "paste(text1,text2)"
   ]
  },
  {
   "cell_type": "markdown",
   "id": "877c8c25-200e-4501-ae78-cec71382128d",
   "metadata": {},
   "source": [
    "**For numbers, the + character works as a mathematical operator:**"
   ]
  },
  {
   "cell_type": "code",
   "execution_count": 32,
   "id": "42582994-0510-491e-bb90-c813e873eed2",
   "metadata": {},
   "outputs": [
    {
     "data": {
      "text/html": [
       "10"
      ],
      "text/latex": [
       "10"
      ],
      "text/markdown": [
       "10"
      ],
      "text/plain": [
       "[1] 10"
      ]
     },
     "metadata": {},
     "output_type": "display_data"
    }
   ],
   "source": [
    "num1 <- 5\n",
    "num2 <- 5\n",
    "num1+num2"
   ]
  },
  {
   "cell_type": "markdown",
   "id": "77c137ad-5d92-46bc-aa76-e745d48f3c7e",
   "metadata": {},
   "source": [
    "**If you try to combine a string (text) and a number, R will give you an error:**"
   ]
  },
  {
   "cell_type": "code",
   "execution_count": 35,
   "id": "a0a0b7c6-22a3-499e-bc53-5aad1b8b74c4",
   "metadata": {},
   "outputs": [],
   "source": [
    "# num <- 5\n",
    "# text <- \"Awesome\"\n",
    "# num + text"
   ]
  },
  {
   "cell_type": "markdown",
   "id": "9acc223a-da7c-49cc-829c-66669a0b5396",
   "metadata": {},
   "source": [
    "## Multiple Variables\n",
    "- R allows you to assign the same value to multiple variables in one line:"
   ]
  },
  {
   "cell_type": "code",
   "execution_count": 36,
   "id": "c6d97dae-2836-4f6a-8c48-00c11f64fe31",
   "metadata": {},
   "outputs": [
    {
     "data": {
      "text/html": [
       "'Orange'"
      ],
      "text/latex": [
       "'Orange'"
      ],
      "text/markdown": [
       "'Orange'"
      ],
      "text/plain": [
       "[1] \"Orange\""
      ]
     },
     "metadata": {},
     "output_type": "display_data"
    },
    {
     "data": {
      "text/html": [
       "'Orange'"
      ],
      "text/latex": [
       "'Orange'"
      ],
      "text/markdown": [
       "'Orange'"
      ],
      "text/plain": [
       "[1] \"Orange\""
      ]
     },
     "metadata": {},
     "output_type": "display_data"
    },
    {
     "data": {
      "text/html": [
       "'Orange'"
      ],
      "text/latex": [
       "'Orange'"
      ],
      "text/markdown": [
       "'Orange'"
      ],
      "text/plain": [
       "[1] \"Orange\""
      ]
     },
     "metadata": {},
     "output_type": "display_data"
    }
   ],
   "source": [
    "# Assign the same value to multiple variables in one line\n",
    "var1 <- var2 <- var3 <- \"Orange\"\n",
    "\n",
    "# print multiple variable\n",
    "var1\n",
    "var2\n",
    "var3"
   ]
  },
  {
   "cell_type": "code",
   "execution_count": 37,
   "id": "a62e885d-d607-4abc-8acf-76d9183dcd24",
   "metadata": {},
   "outputs": [],
   "source": [
    "# Legal variable names:\n",
    "myvar <- \"John\"\n",
    "my_var <- \"John\"\n",
    "myVar <- \"John\"\n",
    "MYVAR <- \"John\"\n",
    "myvar2 <- \"John\"\n",
    ".myvar <- \"John\"\n",
    "\n",
    "# # Illegal variable names:\n",
    "# 2myvar <- \"John\"\n",
    "# my-var <- \"John\"\n",
    "# my var <- \"John\"\n",
    "# _my_var <- \"John\"\n",
    "# my_v@ar <- \"John\"\n",
    "# TRUE <- \"John\""
   ]
  },
  {
   "cell_type": "code",
   "execution_count": null,
   "id": "0d96bd5b-b284-49e9-95f8-aec3b1291f0c",
   "metadata": {},
   "outputs": [],
   "source": []
  }
 ],
 "metadata": {
  "kernelspec": {
   "display_name": "R",
   "language": "R",
   "name": "ir"
  },
  "language_info": {
   "codemirror_mode": "r",
   "file_extension": ".r",
   "mimetype": "text/x-r-source",
   "name": "R",
   "pygments_lexer": "r",
   "version": "4.5.1"
  }
 },
 "nbformat": 4,
 "nbformat_minor": 5
}
