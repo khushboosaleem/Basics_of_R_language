{
 "cells": [
  {
   "cell_type": "markdown",
   "id": "f2dbdad5-1794-44f0-ada9-883c78360058",
   "metadata": {},
   "source": [
    "## ***Loops***\n",
    "\n",
    "`Loops` can execute a block of code as long as a specified condition is reached.\n",
    "\n",
    "`Loops` are handy because they save time, reduce errors, and they make code more readable.\n",
    "\n",
    "`R` has two loop commands:\n",
    "\n",
    "`while` loops\n",
    "`for` loops"
   ]
  },
  {
   "cell_type": "markdown",
   "id": "563884a6-06c7-40f7-89d2-e40e11eac421",
   "metadata": {},
   "source": [
    "***With the while loop we can execute a set of statements as long as a condition is TRUE***"
   ]
  },
  {
   "cell_type": "code",
   "execution_count": 1,
   "id": "fab0ae9c-1aae-4dd4-95c4-81493f3de622",
   "metadata": {},
   "outputs": [
    {
     "name": "stdout",
     "output_type": "stream",
     "text": [
      "[1] 1\n",
      "[1] 2\n",
      "[1] 3\n",
      "[1] 4\n",
      "[1] 5\n"
     ]
    }
   ],
   "source": [
    "# Print i as long as i is less than 6\n",
    "\n",
    "i <- 1\n",
    "\n",
    "while (i < 6){\n",
    "    print(i)\n",
    "    i <- i+1\n",
    "}"
   ]
  },
  {
   "cell_type": "markdown",
   "id": "74a867fa-94af-4a19-ad73-025c916a193b",
   "metadata": {},
   "source": [
    "In the example above, the loop will continue to produce numbers ranging from 1 to 5. The loop will stop at 6 because 6 < 6 is FALSE.\n",
    "\n",
    "The while loop requires relevant variables to be ready, in this example we need to define an indexing variable, i, which we set to 1."
   ]
  },
  {
   "cell_type": "code",
   "execution_count": 2,
   "id": "b2016c52-d779-4416-b843-42cf3f8c4d73",
   "metadata": {},
   "outputs": [
    {
     "name": "stdout",
     "output_type": "stream",
     "text": [
      "[1] 2\n",
      "[1] 3\n",
      "[1] 4\n",
      "[1] 5\n",
      "[1] 6\n"
     ]
    }
   ],
   "source": [
    "i <- 1\n",
    "\n",
    "while (i < 6){\n",
    "    i <- i + 1\n",
    "    print(i)\n",
    "}"
   ]
  },
  {
   "cell_type": "markdown",
   "id": "a3302466-99b4-4d20-bf22-d2ca0dae5232",
   "metadata": {},
   "source": [
    "## ***Break***\n",
    "\n",
    "With the `break` statement, we can stop the loop even if the while condition is TRUE."
   ]
  },
  {
   "cell_type": "code",
   "execution_count": 5,
   "id": "2dd8935d-fc33-4c05-a5cd-040776d38b4a",
   "metadata": {},
   "outputs": [
    {
     "name": "stdout",
     "output_type": "stream",
     "text": [
      "[1] 1\n",
      "[1] 2\n",
      "[1] 3\n",
      "[1] 4\n",
      "[1] 5\n",
      "[1] 6\n",
      "[1] 7\n"
     ]
    }
   ],
   "source": [
    "i <- 1\n",
    "\n",
    "while (i < 10){\n",
    "    print(i)\n",
    "    i <- i + 1\n",
    "    if (i == 8){\n",
    "        break\n",
    "    }\n",
    "}"
   ]
  },
  {
   "cell_type": "markdown",
   "id": "7eb9007e-63f9-46bb-92ea-60c67f2c56f1",
   "metadata": {},
   "source": [
    "The loop will stop at `7` because we have chosen to finish the loop by using the break statement when i is equal to 8 `(i == 8)`."
   ]
  },
  {
   "cell_type": "markdown",
   "id": "5fa16736-a8fc-4246-9b26-240851175f8f",
   "metadata": {},
   "source": [
    "## ***Next***\n",
    "With the `next` statement, we can `skip` an iteration without terminating the loop."
   ]
  },
  {
   "cell_type": "code",
   "execution_count": 14,
   "id": "8cc0ffa2-7565-4b0b-b7e3-dba51d991ccf",
   "metadata": {},
   "outputs": [
    {
     "name": "stdout",
     "output_type": "stream",
     "text": [
      "[1] 1\n",
      "[1] 2\n",
      "[1] 4\n",
      "[1] 5\n",
      "[1] 6\n"
     ]
    }
   ],
   "source": [
    "i <- 0\n",
    "\n",
    "while (i < 6){\n",
    "    \n",
    "    i <- i + 1\n",
    "    if (i == 3){\n",
    "        next\n",
    "    }\n",
    "    print(i)\n",
    "}"
   ]
  },
  {
   "cell_type": "markdown",
   "id": "ba33f7ae-7b48-47c3-858d-ba73160fb8b5",
   "metadata": {},
   "source": [
    "When the `loop` passes the value `3`, it will `skip` it and continue to loop.\n",
    "\n"
   ]
  },
  {
   "cell_type": "markdown",
   "id": "131cc6c0-7be9-4bb6-ad28-e81a06f7df13",
   "metadata": {},
   "source": [
    "## **ATM Withdrawal Simulation**\n",
    "\n",
    "## ***Scenario***\n",
    "A person withdraws money from an ATM. The ATM keeps asking until the balance goes to zero or the person stops."
   ]
  },
  {
   "cell_type": "code",
   "execution_count": 19,
   "id": "33c08e31-c63a-4c43-900d-8443bc44e55c",
   "metadata": {},
   "outputs": [
    {
     "name": "stdin",
     "output_type": "stream",
     "text": [
      "Enter amount to withdraw (0 to stop):  500\n"
     ]
    },
    {
     "name": "stdout",
     "output_type": "stream",
     "text": [
      "Current balance: 500 \n",
      "Withdrawal successful! New balance: 0 \n",
      "\n",
      "Balance is empty. Card blocked.\n"
     ]
    }
   ],
   "source": [
    "# Initial balance\n",
    "balance <- 500  \n",
    "\n",
    "# Start withdrawal process\n",
    "while (balance > 0) {\n",
    "  cat(\"Current balance:\", balance, \"\\n\")\n",
    "  \n",
    "  # Ask user how much to withdraw\n",
    "  withdraw <- as.numeric(readline(\"Enter amount to withdraw (0 to stop): \"))\n",
    "  \n",
    "  if (withdraw == 0) {\n",
    "    cat(\"Transaction ended. Final balance:\", balance, \"\\n\")\n",
    "    break\n",
    "  } else if (withdraw > balance) {\n",
    "    cat(\"Not enough balance! Try again.\\n\")\n",
    "  } else {\n",
    "    balance <- balance - withdraw\n",
    "    cat(\"Withdrawal successful! New balance:\", balance, \"\\n\\n\")\n",
    "  }\n",
    "}\n",
    "\n",
    "if (balance == 0) {\n",
    "  cat(\"Balance is empty. Card blocked.\\n\")\n",
    "}\n"
   ]
  }
 ],
 "metadata": {
  "kernelspec": {
   "display_name": "R",
   "language": "R",
   "name": "ir"
  },
  "language_info": {
   "codemirror_mode": "r",
   "file_extension": ".r",
   "mimetype": "text/x-r-source",
   "name": "R",
   "pygments_lexer": "r",
   "version": "4.5.1"
  }
 },
 "nbformat": 4,
 "nbformat_minor": 5
}
