{
 "cells": [
  {
   "cell_type": "markdown",
   "id": "e745aa8b-a0d9-4f73-8a12-eb99e36e5fbb",
   "metadata": {},
   "source": [
    "## ***Nested If Statements***\n",
    "You can also have if statements inside if statements, this is called nested if statements."
   ]
  },
  {
   "cell_type": "code",
   "execution_count": 5,
   "id": "da5f6a60-8608-4517-b71f-c9d27bd783a8",
   "metadata": {},
   "outputs": [
    {
     "name": "stdout",
     "output_type": "stream",
     "text": [
      "[1] \"Above Ten\"\n",
      "[1] \"Above 20\"\n"
     ]
    }
   ],
   "source": [
    "x <- 40\n",
    "\n",
    "if (x > 10) {\n",
    "    print(\"Above Ten\")\n",
    "    if (x > 20){\n",
    "        print(\"Above 20\")\n",
    "    }else{\n",
    "        print(\"not above 20\")\n",
    "    }\n",
    "}else{\n",
    "    print(\"not above ten\")\n",
    "}"
   ]
  },
  {
   "cell_type": "code",
   "execution_count": 7,
   "id": "d0f7e612-9f18-45a7-855a-0f0ea351b10f",
   "metadata": {},
   "outputs": [
    {
     "name": "stdout",
     "output_type": "stream",
     "text": [
      "[1] \"Above Ten\"\n",
      "[1] \"not above 20\"\n"
     ]
    }
   ],
   "source": [
    "x <- 19\n",
    "\n",
    "if (x > 10) {\n",
    "    print(\"Above Ten\")\n",
    "    if (x > 20){\n",
    "        print(\"Above 20\")\n",
    "    }else{\n",
    "        print(\"not above 20\")\n",
    "    }\n",
    "}else{\n",
    "    print(\"not above ten\")\n",
    "}"
   ]
  },
  {
   "cell_type": "code",
   "execution_count": 8,
   "id": "83f99db3-43bd-46d4-b3c8-919e51874ede",
   "metadata": {},
   "outputs": [
    {
     "name": "stdout",
     "output_type": "stream",
     "text": [
      "[1] \"not above ten\"\n"
     ]
    }
   ],
   "source": [
    "x <- 9\n",
    "\n",
    "if (x > 10) {\n",
    "    print(\"Above Ten\")\n",
    "    if (x > 20){\n",
    "        print(\"Above 20\")\n",
    "    }else{\n",
    "        print(\"not above 20\")\n",
    "    }\n",
    "}else{\n",
    "    print(\"not above ten\")\n",
    "}"
   ]
  },
  {
   "cell_type": "markdown",
   "id": "d68baebb-0fb6-4dac-bb8b-31fbab3d6516",
   "metadata": {},
   "source": [
    "### ***AND OR Operators***"
   ]
  },
  {
   "cell_type": "code",
   "execution_count": 12,
   "id": "73f3efa8-68d7-44af-ad55-7acf324b08ed",
   "metadata": {},
   "outputs": [
    {
     "name": "stdout",
     "output_type": "stream",
     "text": [
      "[1] \"Both Condition are true\"\n"
     ]
    }
   ],
   "source": [
    "a <- 200\n",
    "b <- 300\n",
    "c <- 500\n",
    "\n",
    "if (a<b & c>b){\n",
    "    print(\"Both Condition are true\")\n",
    "}else{\n",
    "    print(\"Both are not true\")\n",
    "}"
   ]
  },
  {
   "cell_type": "code",
   "execution_count": 13,
   "id": "a45359a1-76f7-4f6c-918e-4d1c8efac8c4",
   "metadata": {},
   "outputs": [
    {
     "name": "stdout",
     "output_type": "stream",
     "text": [
      "[1] \"Both Condition are true\"\n"
     ]
    }
   ],
   "source": [
    "a <- 200\n",
    "b <- 300\n",
    "c <- 500\n",
    "\n",
    "if (a<b | b>c){\n",
    "    print(\"Both Condition are true\")\n",
    "}else{\n",
    "    print(\"Both are not true\")\n",
    "}"
   ]
  }
 ],
 "metadata": {
  "kernelspec": {
   "display_name": "R",
   "language": "R",
   "name": "ir"
  },
  "language_info": {
   "codemirror_mode": "r",
   "file_extension": ".r",
   "mimetype": "text/x-r-source",
   "name": "R",
   "pygments_lexer": "r",
   "version": "4.5.1"
  }
 },
 "nbformat": 4,
 "nbformat_minor": 5
}
