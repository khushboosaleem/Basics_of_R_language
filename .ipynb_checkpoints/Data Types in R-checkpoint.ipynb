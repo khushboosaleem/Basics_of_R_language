{
 "cells": [
  {
   "cell_type": "markdown",
   "id": "dfc477e0-6edd-4952-9b18-7a639daf424a",
   "metadata": {},
   "source": [
    "# ***Data Types***\n",
    "- In programming, data type is an important concept.\n",
    "\n",
    "- Variables can store data of different types, and different types can do different things.\n",
    "\n",
    "- In R, variables do not need to be declared with any particular type, and can even change type after they have been set."
   ]
  },
  {
   "cell_type": "code",
   "execution_count": null,
   "id": "5b7156cd-95de-4929-849d-8078c9f543a8",
   "metadata": {},
   "outputs": [],
   "source": []
  }
 ],
 "metadata": {
  "kernelspec": {
   "display_name": "R",
   "language": "R",
   "name": "ir"
  },
  "language_info": {
   "codemirror_mode": "r",
   "file_extension": ".r",
   "mimetype": "text/x-r-source",
   "name": "R",
   "pygments_lexer": "r",
   "version": "4.5.1"
  }
 },
 "nbformat": 4,
 "nbformat_minor": 5
}
