{
 "cells": [
  {
   "cell_type": "markdown",
   "id": "9d488bf6-a099-4d28-8903-cf7cd201de1c",
   "metadata": {},
   "source": [
    "## ***Arithmetic Operators***\n",
    "\n",
    "Arithmetic operators are used with numeric values to perform common mathematical operations."
   ]
  },
  {
   "cell_type": "raw",
   "id": "575f65a5-e1f8-4620-91c4-63da75b19492",
   "metadata": {},
   "source": [
    "Operator\tName\t                               Example\n",
    "+\t        Addition\t                           x + y\t\n",
    "-\t        Subtraction\t                           x - y\t\n",
    "*\t        Multiplication\t                       x * y\t\n",
    "/\t        Division\t                           x / y\t\n",
    "^\t        Exponent\t                           x ^ y\t\n",
    "%%\t        Modulus                                x %% y   (Remainder from division)\t\n",
    "%/%\t        Integer Division\t                   x%/%y"
   ]
  },
  {
   "cell_type": "code",
   "execution_count": 1,
   "id": "e0aa9a1a-86e7-4dbd-8859-58b6cce89c68",
   "metadata": {},
   "outputs": [
    {
     "data": {
      "text/html": [
       "5"
      ],
      "text/latex": [
       "5"
      ],
      "text/markdown": [
       "5"
      ],
      "text/plain": [
       "[1] 5"
      ]
     },
     "metadata": {},
     "output_type": "display_data"
    },
    {
     "data": {
      "text/html": [
       "5"
      ],
      "text/latex": [
       "5"
      ],
      "text/markdown": [
       "5"
      ],
      "text/plain": [
       "[1] 5"
      ]
     },
     "metadata": {},
     "output_type": "display_data"
    }
   ],
   "source": [
    "x <- 5\n",
    "y <- 5\n",
    "x\n",
    "y"
   ]
  },
  {
   "cell_type": "code",
   "execution_count": 2,
   "id": "f6ee747a-e960-427b-9c80-41b2d854201b",
   "metadata": {},
   "outputs": [
    {
     "data": {
      "text/html": [
       "10"
      ],
      "text/latex": [
       "10"
      ],
      "text/markdown": [
       "10"
      ],
      "text/plain": [
       "[1] 10"
      ]
     },
     "metadata": {},
     "output_type": "display_data"
    }
   ],
   "source": [
    "x+y  # Addition"
   ]
  },
  {
   "cell_type": "code",
   "execution_count": 3,
   "id": "fa66fec8-b6aa-42d9-871e-197b67bb3a74",
   "metadata": {},
   "outputs": [
    {
     "data": {
      "text/html": [
       "0"
      ],
      "text/latex": [
       "0"
      ],
      "text/markdown": [
       "0"
      ],
      "text/plain": [
       "[1] 0"
      ]
     },
     "metadata": {},
     "output_type": "display_data"
    }
   ],
   "source": [
    "x-y # subtraction"
   ]
  },
  {
   "cell_type": "code",
   "execution_count": 4,
   "id": "06ead23e-c530-425c-b896-99773d0d6fd7",
   "metadata": {},
   "outputs": [
    {
     "data": {
      "text/html": [
       "25"
      ],
      "text/latex": [
       "25"
      ],
      "text/markdown": [
       "25"
      ],
      "text/plain": [
       "[1] 25"
      ]
     },
     "metadata": {},
     "output_type": "display_data"
    }
   ],
   "source": [
    "x * y   # Multiplication"
   ]
  },
  {
   "cell_type": "code",
   "execution_count": 5,
   "id": "f3b1e5cd-83e1-4aa8-9679-7ea060078ce8",
   "metadata": {},
   "outputs": [
    {
     "data": {
      "text/html": [
       "1"
      ],
      "text/latex": [
       "1"
      ],
      "text/markdown": [
       "1"
      ],
      "text/plain": [
       "[1] 1"
      ]
     },
     "metadata": {},
     "output_type": "display_data"
    }
   ],
   "source": [
    "x / y   # Division"
   ]
  },
  {
   "cell_type": "code",
   "execution_count": 6,
   "id": "fc9c75b0-5186-40da-a254-4007c67ca7f3",
   "metadata": {},
   "outputs": [
    {
     "data": {
      "text/html": [
       "0"
      ],
      "text/latex": [
       "0"
      ],
      "text/markdown": [
       "0"
      ],
      "text/plain": [
       "[1] 0"
      ]
     },
     "metadata": {},
     "output_type": "display_data"
    }
   ],
   "source": [
    "x %% y   # Modulus"
   ]
  },
  {
   "cell_type": "code",
   "execution_count": 7,
   "id": "752e0d13-1517-4245-8dc6-00e3e73bd2dc",
   "metadata": {},
   "outputs": [
    {
     "data": {
      "text/html": [
       "1"
      ],
      "text/latex": [
       "1"
      ],
      "text/markdown": [
       "1"
      ],
      "text/plain": [
       "[1] 1"
      ]
     },
     "metadata": {},
     "output_type": "display_data"
    }
   ],
   "source": [
    "x %/% y   # Integer Division"
   ]
  },
  {
   "cell_type": "markdown",
   "id": "60aace69-f106-4b04-b641-2c9df460fe66",
   "metadata": {},
   "source": [
    "## ***Assignment Operators***"
   ]
  },
  {
   "cell_type": "markdown",
   "id": "6a48536f-9323-4734-a1c7-d283bf4d235c",
   "metadata": {},
   "source": [
    "Assignment operators are used to assign values to variables"
   ]
  },
  {
   "cell_type": "code",
   "execution_count": 8,
   "id": "b95e75f2-295b-4019-a3b2-56d049b0ae68",
   "metadata": {},
   "outputs": [
    {
     "data": {
      "text/html": [
       "3"
      ],
      "text/latex": [
       "3"
      ],
      "text/markdown": [
       "3"
      ],
      "text/plain": [
       "[1] 3"
      ]
     },
     "metadata": {},
     "output_type": "display_data"
    }
   ],
   "source": [
    "my_var <- 3\n",
    "my_var"
   ]
  },
  {
   "cell_type": "code",
   "execution_count": 9,
   "id": "85be6731-2412-4018-8c25-b625b588af4f",
   "metadata": {},
   "outputs": [
    {
     "data": {
      "text/html": [
       "3"
      ],
      "text/latex": [
       "3"
      ],
      "text/markdown": [
       "3"
      ],
      "text/plain": [
       "[1] 3"
      ]
     },
     "metadata": {},
     "output_type": "display_data"
    }
   ],
   "source": [
    "my_var <<- 3\n",
    "my_var"
   ]
  },
  {
   "cell_type": "code",
   "execution_count": 10,
   "id": "ac04bf12-02ef-4299-8107-05b76e9aba7a",
   "metadata": {},
   "outputs": [
    {
     "data": {
      "text/html": [
       "3"
      ],
      "text/latex": [
       "3"
      ],
      "text/markdown": [
       "3"
      ],
      "text/plain": [
       "[1] 3"
      ]
     },
     "metadata": {},
     "output_type": "display_data"
    }
   ],
   "source": [
    "3 -> my_var\n",
    "my_var"
   ]
  },
  {
   "cell_type": "code",
   "execution_count": 11,
   "id": "f42eee84-0e35-4a0f-86ee-73134a2d364e",
   "metadata": {},
   "outputs": [
    {
     "data": {
      "text/html": [
       "3"
      ],
      "text/latex": [
       "3"
      ],
      "text/markdown": [
       "3"
      ],
      "text/plain": [
       "[1] 3"
      ]
     },
     "metadata": {},
     "output_type": "display_data"
    }
   ],
   "source": [
    "3 ->> my_var\n",
    "my_var"
   ]
  },
  {
   "cell_type": "code",
   "execution_count": 12,
   "id": "52c47ec5-df24-4aa8-80f7-6255687c8634",
   "metadata": {},
   "outputs": [
    {
     "data": {
      "text/html": [
       "3"
      ],
      "text/latex": [
       "3"
      ],
      "text/markdown": [
       "3"
      ],
      "text/plain": [
       "[1] 3"
      ]
     },
     "metadata": {},
     "output_type": "display_data"
    }
   ],
   "source": [
    "x = 3\n",
    "x"
   ]
  },
  {
   "cell_type": "markdown",
   "id": "c27fb8ee-d8b2-44a2-a16a-d2265d9ae6ec",
   "metadata": {},
   "source": [
    "## ***Comparison Operators***"
   ]
  },
  {
   "cell_type": "markdown",
   "id": "a6238a81-9af2-4a02-b4b9-be110bf92faf",
   "metadata": {},
   "source": [
    "Comparison operators are used to compare two values\n",
    "\n"
   ]
  },
  {
   "cell_type": "raw",
   "id": "f18c4dc4-508b-4993-805c-d4357773d70f",
   "metadata": {},
   "source": [
    "Operator\tName\t                                  Example\t\n",
    "==\t        Equal\t                                  x == y\t\n",
    "!=\t        Not equal\t                              x != y\t\n",
    ">\t        Greater than\t                          x > y\t\n",
    "<\t        Less than\t                              x < y\t\n",
    ">=\t        Greater than or equal to                  x >= y\t\n",
    "<=\t        Less than or equal to\t                  x <= y\t\n"
   ]
  },
  {
   "cell_type": "code",
   "execution_count": 13,
   "id": "c5e00eaa-1304-401a-829b-32cd6ea4303e",
   "metadata": {},
   "outputs": [
    {
     "data": {
      "text/html": [
       "TRUE"
      ],
      "text/latex": [
       "TRUE"
      ],
      "text/markdown": [
       "TRUE"
      ],
      "text/plain": [
       "[1] TRUE"
      ]
     },
     "metadata": {},
     "output_type": "display_data"
    }
   ],
   "source": [
    "4 == 4    # Equal"
   ]
  },
  {
   "cell_type": "code",
   "execution_count": 14,
   "id": "421be7b0-ac91-49bf-a070-e4cc60257916",
   "metadata": {},
   "outputs": [
    {
     "data": {
      "text/html": [
       "FALSE"
      ],
      "text/latex": [
       "FALSE"
      ],
      "text/markdown": [
       "FALSE"
      ],
      "text/plain": [
       "[1] FALSE"
      ]
     },
     "metadata": {},
     "output_type": "display_data"
    }
   ],
   "source": [
    "4 != 4    # Not equal"
   ]
  },
  {
   "cell_type": "code",
   "execution_count": 15,
   "id": "f3811cc1-76ce-4fb2-8239-f83590ad40b2",
   "metadata": {},
   "outputs": [
    {
     "data": {
      "text/html": [
       "TRUE"
      ],
      "text/latex": [
       "TRUE"
      ],
      "text/markdown": [
       "TRUE"
      ],
      "text/plain": [
       "[1] TRUE"
      ]
     },
     "metadata": {},
     "output_type": "display_data"
    }
   ],
   "source": [
    "5 > 4   # Greater than"
   ]
  },
  {
   "cell_type": "code",
   "execution_count": 16,
   "id": "51d12c49-612a-4063-894b-272ee71efb76",
   "metadata": {},
   "outputs": [
    {
     "data": {
      "text/html": [
       "TRUE"
      ],
      "text/latex": [
       "TRUE"
      ],
      "text/markdown": [
       "TRUE"
      ],
      "text/plain": [
       "[1] TRUE"
      ]
     },
     "metadata": {},
     "output_type": "display_data"
    }
   ],
   "source": [
    "4 < 5   # Less than"
   ]
  },
  {
   "cell_type": "code",
   "execution_count": 17,
   "id": "6561670c-d21c-4a3d-965c-f4d8e361e854",
   "metadata": {},
   "outputs": [
    {
     "data": {
      "text/html": [
       "TRUE"
      ],
      "text/latex": [
       "TRUE"
      ],
      "text/markdown": [
       "TRUE"
      ],
      "text/plain": [
       "[1] TRUE"
      ]
     },
     "metadata": {},
     "output_type": "display_data"
    }
   ],
   "source": [
    "4 >= 4   # Greater than equal to"
   ]
  },
  {
   "cell_type": "code",
   "execution_count": 18,
   "id": "80ecbb79-67a9-455f-9459-d9ec4e01f16f",
   "metadata": {},
   "outputs": [
    {
     "data": {
      "text/html": [
       "TRUE"
      ],
      "text/latex": [
       "TRUE"
      ],
      "text/markdown": [
       "TRUE"
      ],
      "text/plain": [
       "[1] TRUE"
      ]
     },
     "metadata": {},
     "output_type": "display_data"
    }
   ],
   "source": [
    "3 <= 3   # Less than equal to"
   ]
  },
  {
   "cell_type": "markdown",
   "id": "ebb8292b-7174-4112-b6ec-3f673ccd0f5c",
   "metadata": {},
   "source": [
    "## ***Logical Operators***"
   ]
  },
  {
   "cell_type": "markdown",
   "id": "80947da0-debf-44e6-9e57-bde44271dba7",
   "metadata": {},
   "source": [
    "Logical operators are used to combine conditional statements\n",
    "\n"
   ]
  },
  {
   "cell_type": "raw",
   "id": "0116e314-32ef-444f-ac40-ca7c38c3fdaf",
   "metadata": {},
   "source": [
    "Operator\tDescription\n",
    "&\t        Element-wise Logical AND operator. Returns TRUE if both elements are TRUE\n",
    "&&\t        Logical AND operator - Returns TRUE if both statements are TRUE\n",
    "|\t        Elementwise- Logical OR operator. Returns TRUE if one of the statements is TRUE\n",
    "||\t        Logical OR operator. Returns TRUE if one of the statements is TRUE\n",
    "!\t        Logical NOT - Returns FALSE if statement is TRUE\n"
   ]
  },
  {
   "cell_type": "markdown",
   "id": "8de1b42f-9720-4fad-9a01-73bd96dc996d",
   "metadata": {},
   "source": [
    "Difference Between & and &&\n",
    "\n",
    "& (Element-wise Logical AND):\n",
    "\n",
    "The & operator is element-wise and evaluates the logical AND for each pair of elements in two logical vectors (or for a single vector if only one is provided).\n",
    "\n",
    "It compares each corresponding element and returns a vector of TRUE or FALSE based on whether both elements are TRUE."
   ]
  },
  {
   "cell_type": "code",
   "execution_count": 19,
   "id": "722c36c8-cd2a-4bc5-bb59-6b0900cc0c34",
   "metadata": {},
   "outputs": [
    {
     "data": {
      "text/html": [
       "TRUE"
      ],
      "text/latex": [
       "TRUE"
      ],
      "text/markdown": [
       "TRUE"
      ],
      "text/plain": [
       "[1] TRUE"
      ]
     },
     "metadata": {},
     "output_type": "display_data"
    },
    {
     "data": {
      "text/html": [
       "FALSE"
      ],
      "text/latex": [
       "FALSE"
      ],
      "text/markdown": [
       "FALSE"
      ],
      "text/plain": [
       "[1] FALSE"
      ]
     },
     "metadata": {},
     "output_type": "display_data"
    }
   ],
   "source": [
    "(2 < 3) & (3 > 2)\n",
    "(2 < 3) & (2 > 3)"
   ]
  },
  {
   "cell_type": "code",
   "execution_count": 20,
   "id": "de4281e9-cba5-47f7-8122-97894fb6bbe8",
   "metadata": {},
   "outputs": [
    {
     "name": "stdout",
     "output_type": "stream",
     "text": [
      "[1]  TRUE FALSE FALSE\n"
     ]
    }
   ],
   "source": [
    "x <- c(TRUE, FALSE, TRUE)\n",
    "y <- c(TRUE, TRUE, FALSE)\n",
    "result <- x & y\n",
    "print(result)"
   ]
  },
  {
   "cell_type": "code",
   "execution_count": 21,
   "id": "29fc2165-a95c-4b02-9ae6-1258d1a385ea",
   "metadata": {},
   "outputs": [
    {
     "data": {
      "text/html": [
       "<style>\n",
       ".list-inline {list-style: none; margin:0; padding: 0}\n",
       ".list-inline>li {display: inline-block}\n",
       ".list-inline>li:not(:last-child)::after {content: \"\\00b7\"; padding: 0 .5ex}\n",
       "</style>\n",
       "<ol class=list-inline><li>TRUE</li><li>FALSE</li><li>TRUE</li></ol>\n"
      ],
      "text/latex": [
       "\\begin{enumerate*}\n",
       "\\item TRUE\n",
       "\\item FALSE\n",
       "\\item TRUE\n",
       "\\end{enumerate*}\n"
      ],
      "text/markdown": [
       "1. TRUE\n",
       "2. FALSE\n",
       "3. TRUE\n",
       "\n",
       "\n"
      ],
      "text/plain": [
       "[1]  TRUE FALSE  TRUE"
      ]
     },
     "metadata": {},
     "output_type": "display_data"
    }
   ],
   "source": [
    "x"
   ]
  },
  {
   "cell_type": "code",
   "execution_count": 22,
   "id": "fcb26f2c-586c-4681-8dde-b3fd2274a150",
   "metadata": {},
   "outputs": [
    {
     "data": {
      "text/html": [
       "<style>\n",
       ".list-inline {list-style: none; margin:0; padding: 0}\n",
       ".list-inline>li {display: inline-block}\n",
       ".list-inline>li:not(:last-child)::after {content: \"\\00b7\"; padding: 0 .5ex}\n",
       "</style>\n",
       "<ol class=list-inline><li>TRUE</li><li>TRUE</li><li>FALSE</li></ol>\n"
      ],
      "text/latex": [
       "\\begin{enumerate*}\n",
       "\\item TRUE\n",
       "\\item TRUE\n",
       "\\item FALSE\n",
       "\\end{enumerate*}\n"
      ],
      "text/markdown": [
       "1. TRUE\n",
       "2. TRUE\n",
       "3. FALSE\n",
       "\n",
       "\n"
      ],
      "text/plain": [
       "[1]  TRUE  TRUE FALSE"
      ]
     },
     "metadata": {},
     "output_type": "display_data"
    }
   ],
   "source": [
    "y"
   ]
  },
  {
   "cell_type": "markdown",
   "id": "2a698419-1783-4e70-afd1-4156e2686c9d",
   "metadata": {},
   "source": [
    "Explanation: For each pair of elements in x and y:\n",
    "\n",
    "TRUE & TRUE → TRUE\n",
    "\n",
    "FALSE & TRUE → FALSE\n",
    "\n",
    "TRUE & FALSE → FALSE"
   ]
  },
  {
   "cell_type": "markdown",
   "id": "ae3e2969-06c5-4195-8b92-7f218459bc4e",
   "metadata": {},
   "source": [
    "`&&` (Logical AND):\n",
    "\n",
    "The `&&`m operator evaluates only the first element of each logical vector (it only checks the first condition) and returns a single TRUE or FALSE. It is used for scalar values or when you want to check a single condition (like in an if statement)."
   ]
  },
  {
   "cell_type": "code",
   "execution_count": 23,
   "id": "99943c2b-b8df-4980-98ed-8df97ed3a770",
   "metadata": {},
   "outputs": [
    {
     "name": "stdout",
     "output_type": "stream",
     "text": [
      "[1] FALSE\n"
     ]
    }
   ],
   "source": [
    "x <- TRUE\n",
    "y <- FALSE\n",
    "\n",
    "result <- x && y\n",
    "print(result)"
   ]
  },
  {
   "cell_type": "markdown",
   "id": "1f64cd28-9c6a-4251-8622-156bf10c52ea",
   "metadata": {},
   "source": [
    "***Summary:***\n",
    "\n",
    "`&&` is for single logical values and checks the first element.\n",
    "\n",
    "`&` is for element-wise logical comparisons and works on vectors."
   ]
  },
  {
   "cell_type": "markdown",
   "id": "1de536ff-b289-4675-97a5-96608289636d",
   "metadata": {},
   "source": [
    "************************************************************************************************************************"
   ]
  },
  {
   "cell_type": "markdown",
   "id": "be53fb8d-20d0-40af-a6d3-d0e15dbc0110",
   "metadata": {},
   "source": [
    "***Difference Between `|` and `||`***\n",
    "\n",
    "`|` (Element-wise Logical OR):\n",
    "\n",
    "The `|` operator is element-wise and evaluates the logical OR for each pair of elements in two logical vectors (or a single vector if only one is provided).\n",
    "\n",
    "It compares each corresponding element and returns a vector of TRUE or FALSE based on whether at least one element is TRUE."
   ]
  },
  {
   "cell_type": "code",
   "execution_count": 24,
   "id": "5e95befd-f04b-458a-ab1a-93ee05347049",
   "metadata": {},
   "outputs": [
    {
     "name": "stdout",
     "output_type": "stream",
     "text": [
      "[1] TRUE TRUE TRUE\n"
     ]
    }
   ],
   "source": [
    "x <- c(TRUE, FALSE, TRUE)\n",
    "y <- c(FALSE, TRUE, FALSE)\n",
    "result <- x | y\n",
    "print(result)"
   ]
  },
  {
   "cell_type": "markdown",
   "id": "d408d281-cf54-48bb-8f70-c1ead784ce22",
   "metadata": {},
   "source": [
    "Explanation: For each pair of elements in x and y:\n",
    "\n",
    "TRUE | FALSE → TRUE\n",
    "\n",
    "FALSE | TRUE → TRUE\n",
    "\n",
    "TRUE | FALSE → TRUE"
   ]
  },
  {
   "cell_type": "markdown",
   "id": "2e56b478-a17a-48a9-b801-7b2b8b435064",
   "metadata": {},
   "source": [
    "***`||` (Logical OR):***\n",
    "\n",
    "The `||` operator evaluates only the first element of each logical vector (it only checks the first condition) and returns a single TRUE or FALSE. It is used for scalar values or when you want to check a single condition."
   ]
  },
  {
   "cell_type": "code",
   "execution_count": 25,
   "id": "d4b0d885-2020-4cd9-ab44-97cce6bdccac",
   "metadata": {},
   "outputs": [
    {
     "data": {
      "text/html": [
       "TRUE"
      ],
      "text/latex": [
       "TRUE"
      ],
      "text/markdown": [
       "TRUE"
      ],
      "text/plain": [
       "[1] TRUE"
      ]
     },
     "metadata": {},
     "output_type": "display_data"
    }
   ],
   "source": [
    "x <- TRUE\n",
    "y <- FALSE\n",
    "result <- x || y\n",
    "result\n"
   ]
  },
  {
   "cell_type": "markdown",
   "id": "30a3c154-8f74-462a-b0ab-bfd875ecb9a9",
   "metadata": {},
   "source": [
    "***`!` (Logical NOT)***\n",
    "\n",
    "Scenario: You are checking if a customer has subscribed to your newsletter. If they haven't, you will prompt them to subscribe."
   ]
  },
  {
   "cell_type": "code",
   "execution_count": 26,
   "id": "37c8c7f3-3a51-48f3-b377-06a42dd1e84e",
   "metadata": {},
   "outputs": [
    {
     "name": "stdout",
     "output_type": "stream",
     "text": [
      "[1] TRUE\n"
     ]
    }
   ],
   "source": [
    "subscribed <- FALSE\n",
    "\n",
    "result <- !subscribed\n",
    "print(result)"
   ]
  }
 ],
 "metadata": {
  "kernelspec": {
   "display_name": "R",
   "language": "R",
   "name": "ir"
  },
  "language_info": {
   "codemirror_mode": "r",
   "file_extension": ".r",
   "mimetype": "text/x-r-source",
   "name": "R",
   "pygments_lexer": "r",
   "version": "4.5.1"
  }
 },
 "nbformat": 4,
 "nbformat_minor": 5
}
