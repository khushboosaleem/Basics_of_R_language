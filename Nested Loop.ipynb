{
 "cells": [
  {
   "cell_type": "markdown",
   "id": "11c5cb39-fb3b-46b7-bd4c-5bd5b71addce",
   "metadata": {},
   "source": [
    "## ***Nested Loop***"
   ]
  },
  {
   "cell_type": "code",
   "execution_count": 1,
   "id": "1dfef35f-3678-46e7-adcd-94312f93d79a",
   "metadata": {},
   "outputs": [
    {
     "name": "stdout",
     "output_type": "stream",
     "text": [
      "[1] \"red apple\"\n",
      "[1] \"red banana\"\n",
      "[1] \"red cherry\"\n",
      "[1] \"big apple\"\n",
      "[1] \"big banana\"\n",
      "[1] \"big cherry\"\n",
      "[1] \"tasty apple\"\n",
      "[1] \"tasty banana\"\n",
      "[1] \"tasty cherry\"\n"
     ]
    }
   ],
   "source": [
    "adj <- list(\"red\", \"big\", \"tasty\")\n",
    "\n",
    "fruits <- list(\"apple\", \"banana\", \"cherry\")\n",
    "  for (x in adj) {\n",
    "    for (y in fruits) {\n",
    "      print(paste(x, y))\n",
    "  }\n",
    "}"
   ]
  },
  {
   "cell_type": "markdown",
   "id": "a48813bd-e02e-45dc-9f97-66ceb194da18",
   "metadata": {},
   "source": [
    "## ***Scenario: Student Test Scores***"
   ]
  },
  {
   "cell_type": "code",
   "execution_count": 2,
   "id": "093a4139-2ad6-4bb0-be29-c71c553ef0ad",
   "metadata": {},
   "outputs": [
    {
     "name": "stdout",
     "output_type": "stream",
     "text": [
      "      Math Science English\n",
      "Ali     80      75      78\n",
      "Sana    90      95      88\n",
      "Alizy   85      82      91\n"
     ]
    }
   ],
   "source": [
    "# Create a data frame of scores\n",
    "scores <- data.frame(\n",
    "  Math = c(80, 90, 85),\n",
    "  Science = c(75, 95, 82),\n",
    "  English = c(78, 88, 91)\n",
    ")\n",
    "rownames(scores) <- c(\"Ali\", \"Sana\", \"Alizy\")\n",
    "print(scores)\n"
   ]
  },
  {
   "cell_type": "markdown",
   "id": "b1226e0e-7097-4983-ac08-c8e91abfa70d",
   "metadata": {},
   "source": [
    "**Loop through each student and each subject to print their score**"
   ]
  },
  {
   "cell_type": "code",
   "execution_count": 3,
   "id": "96cf2137-13e4-42d8-b654-2cf1bcba3858",
   "metadata": {},
   "outputs": [
    {
     "name": "stdout",
     "output_type": "stream",
     "text": [
      "\n",
      "Scores for Ali :\n",
      "Math : 80 \n",
      "Science : 75 \n",
      "English : 78 \n",
      "\n",
      "Scores for Sana :\n",
      "Math : 90 \n",
      "Science : 95 \n",
      "English : 88 \n",
      "\n",
      "Scores for Alizy :\n",
      "Math : 85 \n",
      "Science : 82 \n",
      "English : 91 \n"
     ]
    }
   ],
   "source": [
    "# Outer loop over rows (students)\n",
    "for (student in rownames(scores)) {\n",
    "  cat(\"\\nScores for\", student, \":\\n\")\n",
    "  \n",
    "  # Inner loop over columns (subjects)\n",
    "  for (subject in colnames(scores)) {\n",
    "    score <- scores[student, subject]\n",
    "    cat(subject, \":\", score, \"\\n\")\n",
    "  }\n",
    "}\n"
   ]
  }
 ],
 "metadata": {
  "kernelspec": {
   "display_name": "R",
   "language": "R",
   "name": "ir"
  },
  "language_info": {
   "codemirror_mode": "r",
   "file_extension": ".r",
   "mimetype": "text/x-r-source",
   "name": "R",
   "pygments_lexer": "r",
   "version": "4.5.1"
  }
 },
 "nbformat": 4,
 "nbformat_minor": 5
}
