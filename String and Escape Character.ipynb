{
 "cells": [
  {
   "cell_type": "markdown",
   "id": "7b026a27-07a7-4bd3-8700-599e1da51c95",
   "metadata": {},
   "source": [
    "## ***String Literals***\n",
    "- Strings are used for storing text.\n",
    "\n",
    "- A string is surrounded by either single quotation marks, or double quotation marks:\n",
    "\n",
    "`\"hello\"` is the same as `'hello'`"
   ]
  },
  {
   "cell_type": "code",
   "execution_count": 1,
   "id": "132db199-243f-4919-b13e-6bb3dfa93b0b",
   "metadata": {},
   "outputs": [
    {
     "data": {
      "text/html": [
       "'hello'"
      ],
      "text/latex": [
       "'hello'"
      ],
      "text/markdown": [
       "'hello'"
      ],
      "text/plain": [
       "[1] \"hello\""
      ]
     },
     "metadata": {},
     "output_type": "display_data"
    },
    {
     "data": {
      "text/html": [
       "'hello'"
      ],
      "text/latex": [
       "'hello'"
      ],
      "text/markdown": [
       "'hello'"
      ],
      "text/plain": [
       "[1] \"hello\""
      ]
     },
     "metadata": {},
     "output_type": "display_data"
    }
   ],
   "source": [
    "\"hello\"\n",
    "'hello'"
   ]
  },
  {
   "cell_type": "markdown",
   "id": "34ccc3a8-fad6-4f33-b05a-a71cd62f3007",
   "metadata": {},
   "source": [
    "### ***Assign a String to a Variable***\n",
    "- Assigning a string to a variable is done with the variable followed by the <- operator and the string:"
   ]
  },
  {
   "cell_type": "code",
   "execution_count": 2,
   "id": "a7ac4ec2-c2e2-48f5-a2df-5a2b7fa8fa97",
   "metadata": {},
   "outputs": [
    {
     "data": {
      "text/html": [
       "'hello'"
      ],
      "text/latex": [
       "'hello'"
      ],
      "text/markdown": [
       "'hello'"
      ],
      "text/plain": [
       "[1] \"hello\""
      ]
     },
     "metadata": {},
     "output_type": "display_data"
    },
    {
     "data": {
      "text/html": [
       "'character'"
      ],
      "text/latex": [
       "'character'"
      ],
      "text/markdown": [
       "'character'"
      ],
      "text/plain": [
       "[1] \"character\""
      ]
     },
     "metadata": {},
     "output_type": "display_data"
    }
   ],
   "source": [
    "str <- \"hello\"\n",
    "str\n",
    "class(str)"
   ]
  },
  {
   "cell_type": "code",
   "execution_count": 3,
   "id": "cc27b0bc-507d-4fd4-800a-c64aff44c74c",
   "metadata": {},
   "outputs": [
    {
     "data": {
      "text/html": [
       "'hello'"
      ],
      "text/latex": [
       "'hello'"
      ],
      "text/markdown": [
       "'hello'"
      ],
      "text/plain": [
       "[1] \"hello\""
      ]
     },
     "metadata": {},
     "output_type": "display_data"
    },
    {
     "data": {
      "text/html": [
       "'character'"
      ],
      "text/latex": [
       "'character'"
      ],
      "text/markdown": [
       "'character'"
      ],
      "text/plain": [
       "[1] \"character\""
      ]
     },
     "metadata": {},
     "output_type": "display_data"
    }
   ],
   "source": [
    "str <- 'hello'\n",
    "str\n",
    "class(str)"
   ]
  },
  {
   "cell_type": "markdown",
   "id": "97c27855-de60-43ef-85eb-eaa5370fc4a8",
   "metadata": {},
   "source": [
    "### ***Multiline Strings***\n",
    "- You can assign a multiline string to a variable like this:"
   ]
  },
  {
   "cell_type": "code",
   "execution_count": 4,
   "id": "862aaa90-0bda-4cd2-bec7-fe382cba5bc3",
   "metadata": {},
   "outputs": [
    {
     "data": {
      "text/html": [
       "'Lorem ipsum dolor sit amet,\\nconsectetur adipiscing elit,\\nsed do eiusmod tempor incididunt\\nut labore et dolore magna aliqua.'"
      ],
      "text/latex": [
       "'Lorem ipsum dolor sit amet,\\textbackslash{}nconsectetur adipiscing elit,\\textbackslash{}nsed do eiusmod tempor incididunt\\textbackslash{}nut labore et dolore magna aliqua.'"
      ],
      "text/markdown": [
       "'Lorem ipsum dolor sit amet,\\nconsectetur adipiscing elit,\\nsed do eiusmod tempor incididunt\\nut labore et dolore magna aliqua.'"
      ],
      "text/plain": [
       "[1] \"Lorem ipsum dolor sit amet,\\nconsectetur adipiscing elit,\\nsed do eiusmod tempor incididunt\\nut labore et dolore magna aliqua.\""
      ]
     },
     "metadata": {},
     "output_type": "display_data"
    }
   ],
   "source": [
    "str <- \"Lorem ipsum dolor sit amet,\n",
    "consectetur adipiscing elit,\n",
    "sed do eiusmod tempor incididunt\n",
    "ut labore et dolore magna aliqua.\"\n",
    "\n",
    "str # print the value of str"
   ]
  },
  {
   "cell_type": "markdown",
   "id": "36cb4338-5582-4ea5-86c9-208dd1963b42",
   "metadata": {},
   "source": [
    "However, note that R will add a \"\\n\" at the end of each line break. This is called an escape character, and the n character indicates a new line.\n",
    "\n",
    "**If you want the line breaks to be inserted at the same position as in the code, use the cat() function:**"
   ]
  },
  {
   "cell_type": "code",
   "execution_count": 5,
   "id": "34ad41d4-7e36-4ac1-ba1f-94f9a89408d3",
   "metadata": {},
   "outputs": [
    {
     "name": "stdout",
     "output_type": "stream",
     "text": [
      "Lorem ipsum dolor sit amet,\n",
      "consectetur adipiscing elit,\n",
      "sed do eiusmod tempor incididunt\n",
      "ut labore et dolore magna aliqua."
     ]
    }
   ],
   "source": [
    "str <- \"Lorem ipsum dolor sit amet,\n",
    "consectetur adipiscing elit,\n",
    "sed do eiusmod tempor incididunt\n",
    "ut labore et dolore magna aliqua.\"\n",
    "\n",
    "cat(str)"
   ]
  },
  {
   "cell_type": "markdown",
   "id": "53976d08-c41c-4987-a293-6f2aa127caae",
   "metadata": {},
   "source": [
    "### ***String Length***\n",
    "- There are many useful string functions in R.\n",
    "\n",
    "- For example, to find the number of characters in a string, use the nchar() function:"
   ]
  },
  {
   "cell_type": "code",
   "execution_count": 6,
   "id": "d58bdeed-892e-4cea-9677-a644ff9598fa",
   "metadata": {},
   "outputs": [
    {
     "data": {
      "text/html": [
       "12"
      ],
      "text/latex": [
       "12"
      ],
      "text/markdown": [
       "12"
      ],
      "text/plain": [
       "[1] 12"
      ]
     },
     "metadata": {},
     "output_type": "display_data"
    }
   ],
   "source": [
    "str <- \"Hello World!\"\n",
    "nchar(str)"
   ]
  },
  {
   "cell_type": "markdown",
   "id": "4b9b3e9e-e212-4921-9a9e-28f1c344c9d3",
   "metadata": {},
   "source": [
    "### ***Check a String***\n",
    "- Use the `grepl()` function to check if a character or a sequence of characters are present in a string:"
   ]
  },
  {
   "cell_type": "code",
   "execution_count": 7,
   "id": "4ae640cf-0c3a-478f-a3eb-4a4ffa4b3922",
   "metadata": {},
   "outputs": [
    {
     "data": {
      "text/html": [
       "TRUE"
      ],
      "text/latex": [
       "TRUE"
      ],
      "text/markdown": [
       "TRUE"
      ],
      "text/plain": [
       "[1] TRUE"
      ]
     },
     "metadata": {},
     "output_type": "display_data"
    }
   ],
   "source": [
    "grepl(\"H\",\"Hello\")"
   ]
  },
  {
   "cell_type": "code",
   "execution_count": 8,
   "id": "6bab2fcb-3d1f-4f5f-b82d-333e4eb61e79",
   "metadata": {},
   "outputs": [
    {
     "data": {
      "text/html": [
       "FALSE"
      ],
      "text/latex": [
       "FALSE"
      ],
      "text/markdown": [
       "FALSE"
      ],
      "text/plain": [
       "[1] FALSE"
      ]
     },
     "metadata": {},
     "output_type": "display_data"
    }
   ],
   "source": [
    "grepl(\"h\",\"Hello\")"
   ]
  },
  {
   "cell_type": "markdown",
   "id": "7d07a24d-3e67-4d49-b318-5dfe4864e7df",
   "metadata": {},
   "source": [
    "### ***Escape Characters***\n",
    "- To insert characters that are illegal in a string, you must use an escape character.\n",
    "\n",
    "- An escape character is a backslash \\ followed by the character you want to insert.\n",
    "\n",
    "- An example of an illegal character is a double quote inside a string that is surrounded by double quotes:"
   ]
  },
  {
   "cell_type": "markdown",
   "id": "7498489f-6860-45ac-962a-35b3ed3e8fda",
   "metadata": {},
   "source": [
    "`Code`\t`Result` \n",
    "\n",
    "`\\\\`\tBackslash\n",
    "\n",
    "`\\n`\tNew Line\n",
    "\n",
    "`\\r`\tCarriage Return\n",
    "\n",
    "`\\t`\tTab\n",
    "\n",
    "`\\b`\tBackspace\n"
   ]
  },
  {
   "cell_type": "code",
   "execution_count": 9,
   "id": "4ba5cf46-9362-4105-9ea4-c43d4b28ccc2",
   "metadata": {},
   "outputs": [
    {
     "name": "stdout",
     "output_type": "stream",
     "text": [
      "We are the so-called \"Vikings\", from the north."
     ]
    }
   ],
   "source": [
    "str <- \"We are the so-called \\\"Vikings\\\", from the north.\"\n",
    "\n",
    "cat(str)"
   ]
  },
  {
   "cell_type": "code",
   "execution_count": 10,
   "id": "21234bb1-b112-491e-b7b1-d216cec784c6",
   "metadata": {},
   "outputs": [
    {
     "name": "stdout",
     "output_type": "stream",
     "text": [
      "We are the so-called \"Vikings\", from the north."
     ]
    }
   ],
   "source": [
    "str <- \"We are the so-called \\\"Vikings\\\", from the north.\"\n",
    "\n",
    "cat(str)"
   ]
  },
  {
   "cell_type": "code",
   "execution_count": 11,
   "id": "8ef0971f-d3b0-4c9e-9324-6eecc10a8bfd",
   "metadata": {},
   "outputs": [
    {
     "name": "stdout",
     "output_type": "stream",
     "text": [
      "We are the so-called \n",
      " \"Vikings\", from the north."
     ]
    }
   ],
   "source": [
    "str <- \"We are the so-called \\n \\\"Vikings\\\", from the north.\"\n",
    "\n",
    "cat(str)"
   ]
  },
  {
   "cell_type": "code",
   "execution_count": 12,
   "id": "7c377045-e1fa-441a-b97b-7a4c297b1ee3",
   "metadata": {},
   "outputs": [
    {
     "name": "stdout",
     "output_type": "stream",
     "text": [
      " \"Vikings\", from the north."
     ]
    }
   ],
   "source": [
    "str <- \"We are the so-called \\r \\\"Vikings\\\", from the north.\"\n",
    "\n",
    "cat(str)"
   ]
  }
 ],
 "metadata": {
  "kernelspec": {
   "display_name": "R",
   "language": "R",
   "name": "ir"
  },
  "language_info": {
   "codemirror_mode": "r",
   "file_extension": ".r",
   "mimetype": "text/x-r-source",
   "name": "R",
   "pygments_lexer": "r",
   "version": "4.5.1"
  }
 },
 "nbformat": 4,
 "nbformat_minor": 5
}
