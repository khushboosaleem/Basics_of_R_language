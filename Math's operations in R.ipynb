{
 "cells": [
  {
   "cell_type": "markdown",
   "id": "eca56360-70b7-4db8-bcc8-75026ecd4c35",
   "metadata": {},
   "source": [
    "## ***Simple Math***\n",
    "- In R, you can use operators to perform common mathematical operations on numbers.\n",
    "\n",
    "***Addition `+`***"
   ]
  },
  {
   "cell_type": "code",
   "execution_count": 1,
   "id": "9688d570-2fda-4901-a65a-df08154aa093",
   "metadata": {},
   "outputs": [
    {
     "data": {
      "text/html": [
       "15"
      ],
      "text/latex": [
       "15"
      ],
      "text/markdown": [
       "15"
      ],
      "text/plain": [
       "[1] 15"
      ]
     },
     "metadata": {},
     "output_type": "display_data"
    }
   ],
   "source": [
    "10+5"
   ]
  },
  {
   "cell_type": "markdown",
   "id": "101ba4bd-dee6-487e-9627-46313abd0093",
   "metadata": {},
   "source": [
    "***Subtraction `-`***"
   ]
  },
  {
   "cell_type": "code",
   "execution_count": 2,
   "id": "78994bda-6d7a-4e65-811e-85e1f4cc7116",
   "metadata": {},
   "outputs": [
    {
     "data": {
      "text/html": [
       "5"
      ],
      "text/latex": [
       "5"
      ],
      "text/markdown": [
       "5"
      ],
      "text/plain": [
       "[1] 5"
      ]
     },
     "metadata": {},
     "output_type": "display_data"
    }
   ],
   "source": [
    "10-5"
   ]
  },
  {
   "cell_type": "markdown",
   "id": "1e45f6c3-360b-424f-9fb7-9e55bcc330ae",
   "metadata": {},
   "source": [
    "***Multiplication `*`***"
   ]
  },
  {
   "cell_type": "code",
   "execution_count": 3,
   "id": "61a3609f-c452-4aee-ab04-d31c29d2beff",
   "metadata": {},
   "outputs": [
    {
     "data": {
      "text/html": [
       "15"
      ],
      "text/latex": [
       "15"
      ],
      "text/markdown": [
       "15"
      ],
      "text/plain": [
       "[1] 15"
      ]
     },
     "metadata": {},
     "output_type": "display_data"
    }
   ],
   "source": [
    "5*3"
   ]
  },
  {
   "cell_type": "markdown",
   "id": "6f258bdf-d1f9-4932-9b76-5623b9aaea10",
   "metadata": {},
   "source": [
    "***Division `/`***"
   ]
  },
  {
   "cell_type": "code",
   "execution_count": 4,
   "id": "7369757c-0758-41a9-8bf3-a1f7e54df207",
   "metadata": {},
   "outputs": [
    {
     "data": {
      "text/html": [
       "1.66666666666667"
      ],
      "text/latex": [
       "1.66666666666667"
      ],
      "text/markdown": [
       "1.66666666666667"
      ],
      "text/plain": [
       "[1] 1.666667"
      ]
     },
     "metadata": {},
     "output_type": "display_data"
    }
   ],
   "source": [
    "5/3"
   ]
  },
  {
   "cell_type": "markdown",
   "id": "98bd922e-3fad-4f2a-8159-10e18a4ec81f",
   "metadata": {},
   "source": [
    "***Integer Division `%/%`***"
   ]
  },
  {
   "cell_type": "code",
   "execution_count": 6,
   "id": "43082105-35a0-49de-b65f-6ae5f23513a6",
   "metadata": {},
   "outputs": [
    {
     "data": {
      "text/html": [
       "1"
      ],
      "text/latex": [
       "1"
      ],
      "text/markdown": [
       "1"
      ],
      "text/plain": [
       "[1] 1"
      ]
     },
     "metadata": {},
     "output_type": "display_data"
    }
   ],
   "source": [
    "5%/%3"
   ]
  },
  {
   "cell_type": "markdown",
   "id": "af1f69a4-2b9d-4092-9c12-42e64dade61f",
   "metadata": {},
   "source": [
    "***Exponentiation `^` or `**`***"
   ]
  },
  {
   "cell_type": "code",
   "execution_count": 7,
   "id": "3c8d847f-940a-426a-ad6c-bcd273f6204b",
   "metadata": {},
   "outputs": [
    {
     "data": {
      "text/html": [
       "125"
      ],
      "text/latex": [
       "125"
      ],
      "text/markdown": [
       "125"
      ],
      "text/plain": [
       "[1] 125"
      ]
     },
     "metadata": {},
     "output_type": "display_data"
    }
   ],
   "source": [
    "5**3"
   ]
  },
  {
   "cell_type": "code",
   "execution_count": 8,
   "id": "facf7046-6ded-4be4-9d81-6c735f559f7c",
   "metadata": {},
   "outputs": [
    {
     "data": {
      "text/html": [
       "125"
      ],
      "text/latex": [
       "125"
      ],
      "text/markdown": [
       "125"
      ],
      "text/plain": [
       "[1] 125"
      ]
     },
     "metadata": {},
     "output_type": "display_data"
    }
   ],
   "source": [
    "5^3"
   ]
  },
  {
   "cell_type": "markdown",
   "id": "6bc6f694-e618-451e-84ca-67ec50f70f53",
   "metadata": {},
   "source": [
    "***Modulo (Remainder) `%%`***"
   ]
  },
  {
   "cell_type": "code",
   "execution_count": 9,
   "id": "87c9980e-36a4-4658-8be6-d508308c5404",
   "metadata": {},
   "outputs": [
    {
     "data": {
      "text/html": [
       "2"
      ],
      "text/latex": [
       "2"
      ],
      "text/markdown": [
       "2"
      ],
      "text/plain": [
       "[1] 2"
      ]
     },
     "metadata": {},
     "output_type": "display_data"
    }
   ],
   "source": [
    "5%%3"
   ]
  },
  {
   "cell_type": "markdown",
   "id": "b98501b9-1f0e-4bbe-b924-bc0f24d2a414",
   "metadata": {},
   "source": [
    "## ***Built-in Math Functions***\n",
    "- R also has many built-in math functions that allows you to perform mathematical tasks on numbers."
   ]
  },
  {
   "cell_type": "code",
   "execution_count": 10,
   "id": "a0f03e70-7533-483d-a7be-4b7d61cc62a9",
   "metadata": {},
   "outputs": [
    {
     "data": {
      "text/html": [
       "16"
      ],
      "text/latex": [
       "16"
      ],
      "text/markdown": [
       "16"
      ],
      "text/plain": [
       "[1] 16"
      ]
     },
     "metadata": {},
     "output_type": "display_data"
    }
   ],
   "source": [
    "max(10,15,16)"
   ]
  },
  {
   "cell_type": "code",
   "execution_count": 11,
   "id": "e41b1756-5cc9-4250-94aa-10bbc46cecba",
   "metadata": {},
   "outputs": [
    {
     "data": {
      "text/html": [
       "10"
      ],
      "text/latex": [
       "10"
      ],
      "text/markdown": [
       "10"
      ],
      "text/plain": [
       "[1] 10"
      ]
     },
     "metadata": {},
     "output_type": "display_data"
    }
   ],
   "source": [
    "min(10,15,16)"
   ]
  },
  {
   "cell_type": "code",
   "execution_count": 12,
   "id": "22aa24da-430f-4938-a766-2091631bcac7",
   "metadata": {},
   "outputs": [
    {
     "data": {
      "text/html": [
       "4"
      ],
      "text/latex": [
       "4"
      ],
      "text/markdown": [
       "4"
      ],
      "text/plain": [
       "[1] 4"
      ]
     },
     "metadata": {},
     "output_type": "display_data"
    }
   ],
   "source": [
    "sqrt(16)"
   ]
  },
  {
   "cell_type": "code",
   "execution_count": 13,
   "id": "394fb506-8d6a-41c1-a3ec-4c8500b9bc15",
   "metadata": {},
   "outputs": [
    {
     "data": {
      "text/html": [
       "4.5"
      ],
      "text/latex": [
       "4.5"
      ],
      "text/markdown": [
       "4.5"
      ],
      "text/plain": [
       "[1] 4.5"
      ]
     },
     "metadata": {},
     "output_type": "display_data"
    }
   ],
   "source": [
    "abs(-4.5)"
   ]
  },
  {
   "cell_type": "markdown",
   "id": "c369fdaa-ff0b-4a0b-a242-1b60f0e8d5a1",
   "metadata": {},
   "source": [
    "## **ceiling() and floor()**\n",
    "- The ceiling() function rounds a number upwards to its nearest integer.\n",
    "- and the floor() function rounds a number downwards to its nearest integer, and returns the result:"
   ]
  },
  {
   "cell_type": "code",
   "execution_count": 14,
   "id": "ee52947d-8909-405d-b694-d096e7a89626",
   "metadata": {},
   "outputs": [
    {
     "data": {
      "text/html": [
       "2"
      ],
      "text/latex": [
       "2"
      ],
      "text/markdown": [
       "2"
      ],
      "text/plain": [
       "[1] 2"
      ]
     },
     "metadata": {},
     "output_type": "display_data"
    }
   ],
   "source": [
    "ceiling(1.4)"
   ]
  },
  {
   "cell_type": "code",
   "execution_count": 15,
   "id": "2e333dc4-760a-4e22-b85e-c11a1c9b4e59",
   "metadata": {},
   "outputs": [
    {
     "data": {
      "text/html": [
       "2"
      ],
      "text/latex": [
       "2"
      ],
      "text/markdown": [
       "2"
      ],
      "text/plain": [
       "[1] 2"
      ]
     },
     "metadata": {},
     "output_type": "display_data"
    }
   ],
   "source": [
    "floor(2.5555555)"
   ]
  },
  {
   "cell_type": "code",
   "execution_count": 16,
   "id": "05bce44b-9778-4909-b58b-d27266a0ea22",
   "metadata": {},
   "outputs": [
    {
     "data": {
      "text/html": [
       "2"
      ],
      "text/latex": [
       "2"
      ],
      "text/markdown": [
       "2"
      ],
      "text/plain": [
       "[1] 2"
      ]
     },
     "metadata": {},
     "output_type": "display_data"
    }
   ],
   "source": [
    "floor(2.9999)"
   ]
  },
  {
   "cell_type": "code",
   "execution_count": 17,
   "id": "7d18c24c-7f9e-4d9d-878b-7b4846b6d268",
   "metadata": {},
   "outputs": [
    {
     "data": {
      "text/html": [
       "3"
      ],
      "text/latex": [
       "3"
      ],
      "text/markdown": [
       "3"
      ],
      "text/plain": [
       "[1] 3"
      ]
     },
     "metadata": {},
     "output_type": "display_data"
    }
   ],
   "source": [
    "ceiling(2.9999)"
   ]
  },
  {
   "cell_type": "code",
   "execution_count": 18,
   "id": "755b66c2-79ae-49e0-8734-8602fc801138",
   "metadata": {},
   "outputs": [
    {
     "data": {
      "text/html": [
       "3"
      ],
      "text/latex": [
       "3"
      ],
      "text/markdown": [
       "3"
      ],
      "text/plain": [
       "[1] 3"
      ]
     },
     "metadata": {},
     "output_type": "display_data"
    }
   ],
   "source": [
    "ceiling(2.333)"
   ]
  },
  {
   "cell_type": "code",
   "execution_count": 20,
   "id": "0807c98f-8377-414e-b3e3-330d7df39345",
   "metadata": {},
   "outputs": [
    {
     "data": {
      "text/html": [
       "2"
      ],
      "text/latex": [
       "2"
      ],
      "text/markdown": [
       "2"
      ],
      "text/plain": [
       "[1] 2"
      ]
     },
     "metadata": {},
     "output_type": "display_data"
    }
   ],
   "source": [
    "ceiling(2.000)"
   ]
  },
  {
   "cell_type": "code",
   "execution_count": 21,
   "id": "fdc6c47f-b2ce-4b25-8e1e-224082df462c",
   "metadata": {},
   "outputs": [
    {
     "data": {
      "text/html": [
       "3"
      ],
      "text/latex": [
       "3"
      ],
      "text/markdown": [
       "3"
      ],
      "text/plain": [
       "[1] 3"
      ]
     },
     "metadata": {},
     "output_type": "display_data"
    }
   ],
   "source": [
    "ceiling(2.111111)"
   ]
  },
  {
   "cell_type": "code",
   "execution_count": 22,
   "id": "02191e42-9e07-4a9d-885e-2e4ca553ec2d",
   "metadata": {},
   "outputs": [
    {
     "data": {
      "text/html": [
       "2"
      ],
      "text/latex": [
       "2"
      ],
      "text/markdown": [
       "2"
      ],
      "text/plain": [
       "[1] 2"
      ]
     },
     "metadata": {},
     "output_type": "display_data"
    }
   ],
   "source": [
    "floor(2.111111)"
   ]
  },
  {
   "cell_type": "code",
   "execution_count": 23,
   "id": "334fd983-5aa7-4cd7-9bb4-e428ce2cd041",
   "metadata": {},
   "outputs": [
    {
     "data": {
      "text/html": [
       "2"
      ],
      "text/latex": [
       "2"
      ],
      "text/markdown": [
       "2"
      ],
      "text/plain": [
       "[1] 2"
      ]
     },
     "metadata": {},
     "output_type": "display_data"
    }
   ],
   "source": [
    "floor(2.5555)"
   ]
  },
  {
   "cell_type": "markdown",
   "id": "65ee4883-bdcb-420a-b955-7b15b3713c44",
   "metadata": {},
   "source": [
    "***round`()`***"
   ]
  },
  {
   "cell_type": "code",
   "execution_count": 24,
   "id": "5c0ca552-ebbc-4497-80e6-a950b2970a86",
   "metadata": {},
   "outputs": [
    {
     "data": {
      "text/html": [
       "2.56"
      ],
      "text/latex": [
       "2.56"
      ],
      "text/markdown": [
       "2.56"
      ],
      "text/plain": [
       "[1] 2.56"
      ]
     },
     "metadata": {},
     "output_type": "display_data"
    }
   ],
   "source": [
    "round(2.5555,2)"
   ]
  },
  {
   "cell_type": "code",
   "execution_count": 27,
   "id": "a51637d4-6281-4a85-b89d-2f36f2aebf46",
   "metadata": {},
   "outputs": [
    {
     "data": {
      "text/html": [
       "4"
      ],
      "text/latex": [
       "4"
      ],
      "text/markdown": [
       "4"
      ],
      "text/plain": [
       "[1] 4"
      ]
     },
     "metadata": {},
     "output_type": "display_data"
    }
   ],
   "source": [
    "round(3.955,1)"
   ]
  }
 ],
 "metadata": {
  "kernelspec": {
   "display_name": "R",
   "language": "R",
   "name": "ir"
  },
  "language_info": {
   "codemirror_mode": "r",
   "file_extension": ".r",
   "mimetype": "text/x-r-source",
   "name": "R",
   "pygments_lexer": "r",
   "version": "4.5.1"
  }
 },
 "nbformat": 4,
 "nbformat_minor": 5
}
