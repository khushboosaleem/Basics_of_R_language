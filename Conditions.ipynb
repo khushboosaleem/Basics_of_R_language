{
 "cells": [
  {
   "cell_type": "code",
   "execution_count": 1,
   "id": "58477bcb-3ac6-4303-946d-e98e42470fa7",
   "metadata": {},
   "outputs": [
    {
     "name": "stdout",
     "output_type": "stream",
     "text": [
      "[1] \"a is greator than b\"\n"
     ]
    }
   ],
   "source": [
    "a <- 33\n",
    "b <- 24\n",
    "\n",
    "if (a>b){\n",
    "    print(\"a is greator than b\")\n",
    "}"
   ]
  },
  {
   "cell_type": "code",
   "execution_count": 4,
   "id": "0811b903-6a33-4255-9785-cd0bc825b3f1",
   "metadata": {},
   "outputs": [
    {
     "name": "stdout",
     "output_type": "stream",
     "text": [
      "[1] \"a is not greater than b\"\n"
     ]
    }
   ],
   "source": [
    "a <- 20\n",
    "b <- 24\n",
    "\n",
    "if (a>b){\n",
    "    print(\"a is greator than b\")\n",
    "}else{\n",
    "    print(\"a is not greater than b\")\n",
    "}"
   ]
  },
  {
   "cell_type": "code",
   "execution_count": 12,
   "id": "e3f77a2b-b8af-45a4-8451-5a0d9f5b5c46",
   "metadata": {},
   "outputs": [
    {
     "name": "stdout",
     "output_type": "stream",
     "text": [
      "[1] \"a is not equal to b\"\n"
     ]
    }
   ],
   "source": [
    "a <- 20\n",
    "b <- 20\n",
    "\n",
    "\n",
    "if (a>b){\n",
    "    print(\"a is greator than b\")\n",
    "}else if (a == b){\n",
    "    print(\"a is not equal to b\")\n",
    "}else{\n",
    "    print(\"a is not greater than b\")\n",
    "}"
   ]
  },
  {
   "cell_type": "code",
   "execution_count": 12,
   "id": "81e6883a-93f7-42ee-a1c6-c8a511d6c161",
   "metadata": {},
   "outputs": [
    {
     "name": "stdout",
     "output_type": "stream",
     "text": [
      "[1] \"a is not equal to b\"\n"
     ]
    }
   ],
   "source": [
    "a <- 20\n",
    "b <- 20\n",
    "\n",
    "\n",
    "if (a>b){\n",
    "    print(\"a is greator than b\")\n",
    "}else if (a == b){\n",
    "    print(\"a is not equal to b\")\n",
    "}else{\n",
    "    print(\"a is not greater than b\")\n",
    "}"
   ]
  }
 ],
 "metadata": {
  "kernelspec": {
   "display_name": "R",
   "language": "R",
   "name": "ir"
  },
  "language_info": {
   "codemirror_mode": "r",
   "file_extension": ".r",
   "mimetype": "text/x-r-source",
   "name": "R",
   "pygments_lexer": "r",
   "version": "4.5.1"
  }
 },
 "nbformat": 4,
 "nbformat_minor": 5
}
