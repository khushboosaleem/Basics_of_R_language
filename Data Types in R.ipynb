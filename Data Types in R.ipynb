{
 "cells": [
  {
   "cell_type": "markdown",
   "id": "dfc477e0-6edd-4952-9b18-7a639daf424a",
   "metadata": {},
   "source": [
    "# ***Data Types***\n",
    "- In programming, data type is an important concept.\n",
    "\n",
    "- Variables can store data of different types, and different types can do different things.\n",
    "\n",
    "- In R, variables do not need to be declared with any particular type, and can even change type after they have been set."
   ]
  },
  {
   "cell_type": "markdown",
   "id": "4655ee61-2df3-4b8b-b402-92334c468b46",
   "metadata": {},
   "source": [
    "## ***Basic Data Types***\n",
    "Basic data types in R can be divided into the following types:\n",
    "\n",
    "- `numeric` - (10.5, 55, 787)\n",
    "- `integer` - (1L, 55L, 100L, where the letter \"L\" declares this as an integer)\n",
    "- `complex` - (9 + 3i, where \"i\" is the imaginary part)\n",
    "- `character` (a.k.a. string) - (\"k\", \"R is exciting\", \"FALSE\", \"11.5\")\n",
    "- `logical` (a.k.a. boolean) - (TRUE or FALSE)\n",
    "  \n",
    "We can use the class() function to check the data type of a variable:"
   ]
  },
  {
   "cell_type": "code",
   "execution_count": 1,
   "id": "5b7156cd-95de-4929-849d-8078c9f543a8",
   "metadata": {},
   "outputs": [],
   "source": [
    "my_var <- 30   # numeric"
   ]
  },
  {
   "cell_type": "code",
   "execution_count": 2,
   "id": "56078830-02ea-4eed-9900-00481fb2ef45",
   "metadata": {},
   "outputs": [
    {
     "data": {
      "text/html": [
       "'numeric'"
      ],
      "text/latex": [
       "'numeric'"
      ],
      "text/markdown": [
       "'numeric'"
      ],
      "text/plain": [
       "[1] \"numeric\""
      ]
     },
     "metadata": {},
     "output_type": "display_data"
    }
   ],
   "source": [
    "class(my_var)"
   ]
  },
  {
   "cell_type": "code",
   "execution_count": 3,
   "id": "31d7a57c-7bc5-460b-8a2d-ebd6ed5e344b",
   "metadata": {},
   "outputs": [],
   "source": [
    "my_var <- \"khushboo12\"  # character"
   ]
  },
  {
   "cell_type": "code",
   "execution_count": 4,
   "id": "5b625c61-09a7-4003-a9fb-fe8a5a99f2d3",
   "metadata": {},
   "outputs": [
    {
     "data": {
      "text/html": [
       "'character'"
      ],
      "text/latex": [
       "'character'"
      ],
      "text/markdown": [
       "'character'"
      ],
      "text/plain": [
       "[1] \"character\""
      ]
     },
     "metadata": {},
     "output_type": "display_data"
    }
   ],
   "source": [
    "class(my_var)"
   ]
  },
  {
   "cell_type": "code",
   "execution_count": 5,
   "id": "4d30070a-cf15-4b37-9ba2-94e5455e0cdd",
   "metadata": {},
   "outputs": [],
   "source": [
    "int <- 2L # integer"
   ]
  },
  {
   "cell_type": "code",
   "execution_count": 6,
   "id": "79b5073e-e117-483a-9255-4216042a732f",
   "metadata": {},
   "outputs": [
    {
     "data": {
      "text/html": [
       "'integer'"
      ],
      "text/latex": [
       "'integer'"
      ],
      "text/markdown": [
       "'integer'"
      ],
      "text/plain": [
       "[1] \"integer\""
      ]
     },
     "metadata": {},
     "output_type": "display_data"
    }
   ],
   "source": [
    "class(int)"
   ]
  },
  {
   "cell_type": "code",
   "execution_count": 7,
   "id": "daaf28ed-89f5-4700-bea4-e4c3db5d662e",
   "metadata": {},
   "outputs": [],
   "source": [
    "complex <- 9 + 2i"
   ]
  },
  {
   "cell_type": "code",
   "execution_count": 8,
   "id": "06a0d6fd-52dd-4a91-9d36-e6a1cb7d33d1",
   "metadata": {},
   "outputs": [
    {
     "data": {
      "text/html": [
       "'complex'"
      ],
      "text/latex": [
       "'complex'"
      ],
      "text/markdown": [
       "'complex'"
      ],
      "text/plain": [
       "[1] \"complex\""
      ]
     },
     "metadata": {},
     "output_type": "display_data"
    }
   ],
   "source": [
    "class(complex)"
   ]
  },
  {
   "cell_type": "code",
   "execution_count": 9,
   "id": "3d0fa2f6-2703-4412-8d0a-98cf337ff5b1",
   "metadata": {},
   "outputs": [],
   "source": [
    "logical_boolean <- TRUE"
   ]
  },
  {
   "cell_type": "code",
   "execution_count": 10,
   "id": "254b7cf5-326b-455a-98bd-97bbdcc11208",
   "metadata": {},
   "outputs": [
    {
     "data": {
      "text/html": [
       "'logical'"
      ],
      "text/latex": [
       "'logical'"
      ],
      "text/markdown": [
       "'logical'"
      ],
      "text/plain": [
       "[1] \"logical\""
      ]
     },
     "metadata": {},
     "output_type": "display_data"
    }
   ],
   "source": [
    "class(logical_boolean)"
   ]
  },
  {
   "cell_type": "code",
   "execution_count": 11,
   "id": "f4acad81-1a0a-44fa-9271-1960d592f7d1",
   "metadata": {},
   "outputs": [
    {
     "data": {
      "text/html": [
       "FALSE"
      ],
      "text/latex": [
       "FALSE"
      ],
      "text/markdown": [
       "FALSE"
      ],
      "text/plain": [
       "[1] FALSE"
      ]
     },
     "metadata": {},
     "output_type": "display_data"
    }
   ],
   "source": [
    "logical_False <- FALSE\n",
    "logical_False"
   ]
  },
  {
   "cell_type": "code",
   "execution_count": 12,
   "id": "6f26c6ca-a9db-402b-a9a5-2af66dd76261",
   "metadata": {},
   "outputs": [
    {
     "data": {
      "text/html": [
       "TRUE"
      ],
      "text/latex": [
       "TRUE"
      ],
      "text/markdown": [
       "TRUE"
      ],
      "text/plain": [
       "[1] TRUE"
      ]
     },
     "metadata": {},
     "output_type": "display_data"
    }
   ],
   "source": [
    "logical_true <- TRUE\n",
    "logical_true"
   ]
  },
  {
   "cell_type": "code",
   "execution_count": 13,
   "id": "1bf74788-f0b7-4c39-b566-fd88e186563f",
   "metadata": {},
   "outputs": [
    {
     "data": {
      "text/html": [
       "'logical'"
      ],
      "text/latex": [
       "'logical'"
      ],
      "text/markdown": [
       "'logical'"
      ],
      "text/plain": [
       "[1] \"logical\""
      ]
     },
     "metadata": {},
     "output_type": "display_data"
    }
   ],
   "source": [
    "class(logical_true)"
   ]
  }
 ],
 "metadata": {
  "kernelspec": {
   "display_name": "R",
   "language": "R",
   "name": "ir"
  },
  "language_info": {
   "codemirror_mode": "r",
   "file_extension": ".r",
   "mimetype": "text/x-r-source",
   "name": "R",
   "pygments_lexer": "r",
   "version": "4.5.1"
  }
 },
 "nbformat": 4,
 "nbformat_minor": 5
}
