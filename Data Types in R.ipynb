{
 "cells": [
  {
   "cell_type": "markdown",
   "id": "dfc477e0-6edd-4952-9b18-7a639daf424a",
   "metadata": {},
   "source": [
    "# ***Data Types***\n",
    "- In programming, data type is an important concept.\n",
    "\n",
    "- Variables can store data of different types, and different types can do different things.\n",
    "\n",
    "- In R, variables do not need to be declared with any particular type, and can even change type after they have been set."
   ]
  },
  {
   "cell_type": "markdown",
   "id": "4655ee61-2df3-4b8b-b402-92334c468b46",
   "metadata": {},
   "source": [
    "## ***Basic Data Types***\n",
    "Basic data types in R can be divided into the following types:\n",
    "\n",
    "- `numeric` - (10.5, 55, 787)\n",
    "- `integer` - (1L, 55L, 100L, where the letter \"L\" declares this as an integer)\n",
    "- `complex` - (9 + 3i, where \"i\" is the imaginary part)\n",
    "- `character` (a.k.a. string) - (\"k\", \"R is exciting\", \"FALSE\", \"11.5\")\n",
    "- `logical` (a.k.a. boolean) - (TRUE or FALSE)\n",
    "  \n",
    "We can use the class() function to check the data type of a variable:"
   ]
  },
  {
   "cell_type": "code",
   "execution_count": 1,
   "id": "5b7156cd-95de-4929-849d-8078c9f543a8",
   "metadata": {},
   "outputs": [],
   "source": [
    "my_var <- 30   # numeric"
   ]
  },
  {
   "cell_type": "code",
   "execution_count": 2,
   "id": "56078830-02ea-4eed-9900-00481fb2ef45",
   "metadata": {},
   "outputs": [
    {
     "data": {
      "text/html": [
       "'numeric'"
      ],
      "text/latex": [
       "'numeric'"
      ],
      "text/markdown": [
       "'numeric'"
      ],
      "text/plain": [
       "[1] \"numeric\""
      ]
     },
     "metadata": {},
     "output_type": "display_data"
    }
   ],
   "source": [
    "class(my_var)"
   ]
  },
  {
   "cell_type": "code",
   "execution_count": 3,
   "id": "31d7a57c-7bc5-460b-8a2d-ebd6ed5e344b",
   "metadata": {},
   "outputs": [],
   "source": [
    "my_var <- \"khushboo12\"  # character"
   ]
  },
  {
   "cell_type": "code",
   "execution_count": 4,
   "id": "5b625c61-09a7-4003-a9fb-fe8a5a99f2d3",
   "metadata": {},
   "outputs": [
    {
     "data": {
      "text/html": [
       "'character'"
      ],
      "text/latex": [
       "'character'"
      ],
      "text/markdown": [
       "'character'"
      ],
      "text/plain": [
       "[1] \"character\""
      ]
     },
     "metadata": {},
     "output_type": "display_data"
    }
   ],
   "source": [
    "class(my_var)"
   ]
  },
  {
   "cell_type": "code",
   "execution_count": 5,
   "id": "4d30070a-cf15-4b37-9ba2-94e5455e0cdd",
   "metadata": {},
   "outputs": [],
   "source": [
    "int <- 2L # integer"
   ]
  },
  {
   "cell_type": "code",
   "execution_count": 6,
   "id": "79b5073e-e117-483a-9255-4216042a732f",
   "metadata": {},
   "outputs": [
    {
     "data": {
      "text/html": [
       "'integer'"
      ],
      "text/latex": [
       "'integer'"
      ],
      "text/markdown": [
       "'integer'"
      ],
      "text/plain": [
       "[1] \"integer\""
      ]
     },
     "metadata": {},
     "output_type": "display_data"
    }
   ],
   "source": [
    "class(int)"
   ]
  },
  {
   "cell_type": "code",
   "execution_count": 7,
   "id": "daaf28ed-89f5-4700-bea4-e4c3db5d662e",
   "metadata": {},
   "outputs": [],
   "source": [
    "complex <- 9 + 2i"
   ]
  },
  {
   "cell_type": "code",
   "execution_count": 8,
   "id": "06a0d6fd-52dd-4a91-9d36-e6a1cb7d33d1",
   "metadata": {},
   "outputs": [
    {
     "data": {
      "text/html": [
       "'complex'"
      ],
      "text/latex": [
       "'complex'"
      ],
      "text/markdown": [
       "'complex'"
      ],
      "text/plain": [
       "[1] \"complex\""
      ]
     },
     "metadata": {},
     "output_type": "display_data"
    }
   ],
   "source": [
    "class(complex)"
   ]
  },
  {
   "cell_type": "code",
   "execution_count": 9,
   "id": "3d0fa2f6-2703-4412-8d0a-98cf337ff5b1",
   "metadata": {},
   "outputs": [],
   "source": [
    "logical_boolean <- TRUE"
   ]
  },
  {
   "cell_type": "code",
   "execution_count": 10,
   "id": "254b7cf5-326b-455a-98bd-97bbdcc11208",
   "metadata": {},
   "outputs": [
    {
     "data": {
      "text/html": [
       "'logical'"
      ],
      "text/latex": [
       "'logical'"
      ],
      "text/markdown": [
       "'logical'"
      ],
      "text/plain": [
       "[1] \"logical\""
      ]
     },
     "metadata": {},
     "output_type": "display_data"
    }
   ],
   "source": [
    "class(logical_boolean)"
   ]
  },
  {
   "cell_type": "code",
   "execution_count": 11,
   "id": "f4acad81-1a0a-44fa-9271-1960d592f7d1",
   "metadata": {},
   "outputs": [
    {
     "data": {
      "text/html": [
       "FALSE"
      ],
      "text/latex": [
       "FALSE"
      ],
      "text/markdown": [
       "FALSE"
      ],
      "text/plain": [
       "[1] FALSE"
      ]
     },
     "metadata": {},
     "output_type": "display_data"
    }
   ],
   "source": [
    "logical_False <- FALSE\n",
    "logical_False"
   ]
  },
  {
   "cell_type": "code",
   "execution_count": 12,
   "id": "6f26c6ca-a9db-402b-a9a5-2af66dd76261",
   "metadata": {},
   "outputs": [
    {
     "data": {
      "text/html": [
       "TRUE"
      ],
      "text/latex": [
       "TRUE"
      ],
      "text/markdown": [
       "TRUE"
      ],
      "text/plain": [
       "[1] TRUE"
      ]
     },
     "metadata": {},
     "output_type": "display_data"
    }
   ],
   "source": [
    "logical_true <- TRUE\n",
    "logical_true"
   ]
  },
  {
   "cell_type": "code",
   "execution_count": 13,
   "id": "1bf74788-f0b7-4c39-b566-fd88e186563f",
   "metadata": {},
   "outputs": [
    {
     "data": {
      "text/html": [
       "'logical'"
      ],
      "text/latex": [
       "'logical'"
      ],
      "text/markdown": [
       "'logical'"
      ],
      "text/plain": [
       "[1] \"logical\""
      ]
     },
     "metadata": {},
     "output_type": "display_data"
    }
   ],
   "source": [
    "class(logical_true)"
   ]
  },
  {
   "cell_type": "markdown",
   "id": "ec3280bc-abc8-41ca-bc81-3b0644b97951",
   "metadata": {},
   "source": [
    "## **Numbers**\n",
    "There are three number types in R:\n",
    "\n",
    "- numeric\n",
    "- integer\n",
    "- complex\n",
    "  \n",
    "Variables of number types are created when you assign a value to them:"
   ]
  },
  {
   "cell_type": "code",
   "execution_count": 1,
   "id": "28af617f-0f01-4554-9dc2-bc6954d464c8",
   "metadata": {},
   "outputs": [],
   "source": [
    "x <- 10.5   # numeric\n",
    "y <- 10L    # integer\n",
    "z <- 1i     # complex"
   ]
  },
  {
   "cell_type": "markdown",
   "id": "0ab80483-4a4f-443c-971f-8db0dc189205",
   "metadata": {},
   "source": [
    "### **Numeric**\n",
    "A numeric data type is the most common type in R, and contains any number with or without a decimal, like: 10.5, 55, 787:"
   ]
  },
  {
   "cell_type": "code",
   "execution_count": 2,
   "id": "b20964a6-067a-40e0-a220-20cf54bfc0d9",
   "metadata": {},
   "outputs": [
    {
     "data": {
      "text/html": [
       "10.5"
      ],
      "text/latex": [
       "10.5"
      ],
      "text/markdown": [
       "10.5"
      ],
      "text/plain": [
       "[1] 10.5"
      ]
     },
     "metadata": {},
     "output_type": "display_data"
    },
    {
     "data": {
      "text/html": [
       "55"
      ],
      "text/latex": [
       "55"
      ],
      "text/markdown": [
       "55"
      ],
      "text/plain": [
       "[1] 55"
      ]
     },
     "metadata": {},
     "output_type": "display_data"
    },
    {
     "data": {
      "text/html": [
       "'numeric'"
      ],
      "text/latex": [
       "'numeric'"
      ],
      "text/markdown": [
       "'numeric'"
      ],
      "text/plain": [
       "[1] \"numeric\""
      ]
     },
     "metadata": {},
     "output_type": "display_data"
    },
    {
     "data": {
      "text/html": [
       "'numeric'"
      ],
      "text/latex": [
       "'numeric'"
      ],
      "text/markdown": [
       "'numeric'"
      ],
      "text/plain": [
       "[1] \"numeric\""
      ]
     },
     "metadata": {},
     "output_type": "display_data"
    }
   ],
   "source": [
    "x <- 10.5\n",
    "y <- 55\n",
    "\n",
    "# Print values of x and y\n",
    "x\n",
    "y\n",
    "\n",
    "# Print the class name of x and y\n",
    "class(x)\n",
    "class(y)"
   ]
  },
  {
   "cell_type": "markdown",
   "id": "673ea711-a871-4fdf-8cf7-43f954faa0fb",
   "metadata": {},
   "source": [
    "### ***Integer***\n",
    "Integers are numeric data without decimals. This is used when you are certain that you will never create a variable that should contain decimals. To create an integer variable, you must use the letter L after the integer value:"
   ]
  },
  {
   "cell_type": "code",
   "execution_count": 4,
   "id": "7e4c00e7-5e45-4367-9998-b378ddf894bb",
   "metadata": {},
   "outputs": [
    {
     "data": {
      "text/html": [
       "1000"
      ],
      "text/latex": [
       "1000"
      ],
      "text/markdown": [
       "1000"
      ],
      "text/plain": [
       "[1] 1000"
      ]
     },
     "metadata": {},
     "output_type": "display_data"
    },
    {
     "data": {
      "text/html": [
       "55"
      ],
      "text/latex": [
       "55"
      ],
      "text/markdown": [
       "55"
      ],
      "text/plain": [
       "[1] 55"
      ]
     },
     "metadata": {},
     "output_type": "display_data"
    },
    {
     "data": {
      "text/html": [
       "'integer'"
      ],
      "text/latex": [
       "'integer'"
      ],
      "text/markdown": [
       "'integer'"
      ],
      "text/plain": [
       "[1] \"integer\""
      ]
     },
     "metadata": {},
     "output_type": "display_data"
    },
    {
     "data": {
      "text/html": [
       "'integer'"
      ],
      "text/latex": [
       "'integer'"
      ],
      "text/markdown": [
       "'integer'"
      ],
      "text/plain": [
       "[1] \"integer\""
      ]
     },
     "metadata": {},
     "output_type": "display_data"
    }
   ],
   "source": [
    "x <- 1000L\n",
    "y <- 55L\n",
    "\n",
    "# Print values of x and y\n",
    "x\n",
    "y\n",
    "\n",
    "# Print the class name of x and y\n",
    "class(x)\n",
    "class(y)\n"
   ]
  },
  {
   "cell_type": "markdown",
   "id": "0f8f38f4-3e40-4c13-a0c5-ef98dce57f1d",
   "metadata": {},
   "source": [
    "### ***Complex***\n",
    "A complex number is written with an \"i\" as the imaginary part:"
   ]
  },
  {
   "cell_type": "code",
   "execution_count": 5,
   "id": "b40eabd0-9565-435b-aab3-0a38e2d794b6",
   "metadata": {},
   "outputs": [
    {
     "data": {
      "text/html": [
       "3+5i"
      ],
      "text/latex": [
       "3+5i"
      ],
      "text/markdown": [
       "3+5i"
      ],
      "text/plain": [
       "[1] 3+5i"
      ]
     },
     "metadata": {},
     "output_type": "display_data"
    },
    {
     "data": {
      "text/html": [
       "0+5i"
      ],
      "text/latex": [
       "0+5i"
      ],
      "text/markdown": [
       "0+5i"
      ],
      "text/plain": [
       "[1] 0+5i"
      ]
     },
     "metadata": {},
     "output_type": "display_data"
    },
    {
     "data": {
      "text/html": [
       "'complex'"
      ],
      "text/latex": [
       "'complex'"
      ],
      "text/markdown": [
       "'complex'"
      ],
      "text/plain": [
       "[1] \"complex\""
      ]
     },
     "metadata": {},
     "output_type": "display_data"
    },
    {
     "data": {
      "text/html": [
       "'complex'"
      ],
      "text/latex": [
       "'complex'"
      ],
      "text/markdown": [
       "'complex'"
      ],
      "text/plain": [
       "[1] \"complex\""
      ]
     },
     "metadata": {},
     "output_type": "display_data"
    }
   ],
   "source": [
    "x <- 3+5i\n",
    "y <- 5i\n",
    "\n",
    "# Print values of x and y\n",
    "x\n",
    "y\n",
    "\n",
    "# Print the class name of x and y\n",
    "class(x)\n",
    "class(y)"
   ]
  },
  {
   "cell_type": "markdown",
   "id": "b88a7db7-91c0-4b22-895e-1498334f2755",
   "metadata": {},
   "source": [
    "### ***Type Conversion***\n",
    "You can convert from one type to another with the following functions:\n",
    "\n",
    "- as.numeric()\n",
    "- as.integer()\n",
    "- as.complex()"
   ]
  },
  {
   "cell_type": "code",
   "execution_count": 6,
   "id": "bc0d16e9-0b36-4e7d-a03f-31d4b5629dea",
   "metadata": {},
   "outputs": [
    {
     "data": {
      "text/html": [
       "1"
      ],
      "text/latex": [
       "1"
      ],
      "text/markdown": [
       "1"
      ],
      "text/plain": [
       "[1] 1"
      ]
     },
     "metadata": {},
     "output_type": "display_data"
    },
    {
     "data": {
      "text/html": [
       "2"
      ],
      "text/latex": [
       "2"
      ],
      "text/markdown": [
       "2"
      ],
      "text/plain": [
       "[1] 2"
      ]
     },
     "metadata": {},
     "output_type": "display_data"
    },
    {
     "data": {
      "text/html": [
       "'numeric'"
      ],
      "text/latex": [
       "'numeric'"
      ],
      "text/markdown": [
       "'numeric'"
      ],
      "text/plain": [
       "[1] \"numeric\""
      ]
     },
     "metadata": {},
     "output_type": "display_data"
    },
    {
     "data": {
      "text/html": [
       "'integer'"
      ],
      "text/latex": [
       "'integer'"
      ],
      "text/markdown": [
       "'integer'"
      ],
      "text/plain": [
       "[1] \"integer\""
      ]
     },
     "metadata": {},
     "output_type": "display_data"
    }
   ],
   "source": [
    "x <- 1L # integer\n",
    "y <- 2 # numeric\n",
    "\n",
    "# convert from integer to numeric:\n",
    "a <- as.numeric(x)\n",
    "\n",
    "# convert from numeric to integer:\n",
    "b <- as.integer(y)\n",
    "\n",
    "# print values of x and y\n",
    "x\n",
    "y\n",
    "\n",
    "# print the class name of a and b\n",
    "class(a)\n",
    "class(b)\n"
   ]
  },
  {
   "cell_type": "code",
   "execution_count": 12,
   "id": "e13f276e-7941-48f8-a027-895529251d45",
   "metadata": {},
   "outputs": [
    {
     "data": {
      "text/html": [
       "'numeric'"
      ],
      "text/latex": [
       "'numeric'"
      ],
      "text/markdown": [
       "'numeric'"
      ],
      "text/plain": [
       "[1] \"numeric\""
      ]
     },
     "metadata": {},
     "output_type": "display_data"
    },
    {
     "data": {
      "text/html": [
       "'integer'"
      ],
      "text/latex": [
       "'integer'"
      ],
      "text/markdown": [
       "'integer'"
      ],
      "text/plain": [
       "[1] \"integer\""
      ]
     },
     "metadata": {},
     "output_type": "display_data"
    }
   ],
   "source": [
    "x <- 2L\n",
    "y <- as.numeric(x)\n",
    "class(y)\n",
    "class(x)"
   ]
  }
 ],
 "metadata": {
  "kernelspec": {
   "display_name": "R",
   "language": "R",
   "name": "ir"
  },
  "language_info": {
   "codemirror_mode": "r",
   "file_extension": ".r",
   "mimetype": "text/x-r-source",
   "name": "R",
   "pygments_lexer": "r",
   "version": "4.5.1"
  }
 },
 "nbformat": 4,
 "nbformat_minor": 5
}
